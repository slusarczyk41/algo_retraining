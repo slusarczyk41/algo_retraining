{
 "cells": [
  {
   "cell_type": "code",
   "execution_count": 1,
   "metadata": {},
   "outputs": [],
   "source": [
    "import pandas as pd\n",
    "import datetime as dt\n",
    "import numpy as np"
   ]
  },
  {
   "cell_type": "code",
   "execution_count": 2,
   "metadata": {},
   "outputs": [],
   "source": [
    "from oandapyV20 import API\n",
    "from oandapyV20.contrib.factories import InstrumentsCandlesFactory\n",
    "import oandapyV20.endpoints.forexlabs as labs\n",
    "import oandapyV20.endpoints.orders as orders\n",
    "import oandapyV20.endpoints.trades as trades"
   ]
  },
  {
   "cell_type": "markdown",
   "metadata": {},
   "source": [
    "## Get sample data"
   ]
  },
  {
   "cell_type": "code",
   "execution_count": 3,
   "metadata": {},
   "outputs": [],
   "source": [
    "def hist(api, instrument, start_days, end_days, granularity):\n",
    "\n",
    "    start_date = (dt.datetime.now()-dt.timedelta(days=start_days)).strftime('%Y-%m-%dT%H:%M:%SZ')\n",
    "    end_date = (dt.datetime.now()-dt.timedelta(days=end_days, hours=2,minutes=4)).strftime('%Y-%m-%dT%H:%M:%SZ')\n",
    "\n",
    "    params ={\n",
    "                \"from\": start_date,\n",
    "                \"to\": end_date,\n",
    "                \"granularity\":granularity,\n",
    "            }\n",
    "\n",
    "    df_list = []\n",
    "    for r in InstrumentsCandlesFactory(instrument=instrument,params=params):\n",
    "        api.request(r)\n",
    "        df = pd.DataFrame(r.response['candles'])\n",
    "        if(df.empty==False):\n",
    "            time = df['time']\n",
    "            volume = pd.DataFrame(df['volume'].apply(pd.Series))\n",
    "            df = pd.DataFrame(df['mid'].apply(pd.Series))\n",
    "            df = pd.concat([df,time,volume], axis=1)\n",
    "            df['time'] = pd.to_datetime(df['time'], format='%Y-%m-%dT%H:%M:%S.000000000Z')\n",
    "            #df.set_index('time',inplace=True)\n",
    "            df_list.append(df)\n",
    "    \n",
    "    final = pd.concat(df_list)\n",
    "    \n",
    "    names = {\n",
    "        'o': 'open',\n",
    "        'c': 'close',\n",
    "        'h': 'high',\n",
    "        'l': 'low',\n",
    "        0: 'vol',\n",
    "        'time': 'time',\n",
    "    }\n",
    "    new_names = []\n",
    "    for column_name in final.columns:\n",
    "        new_names.append(names[column_name])\n",
    "    final.columns = new_names\n",
    "    \n",
    "    return final"
   ]
  },
  {
   "cell_type": "code",
   "execution_count": 4,
   "metadata": {},
   "outputs": [],
   "source": [
    "def cal(client, instrument, perdiod):\n",
    "\n",
    "    \n",
    "    \n",
    "    params = {\n",
    "        \"instrument\": instrument,\n",
    "        \"period\": perdiod\n",
    "    }\n",
    "    \n",
    "    # PERIOD VALUES\n",
    "    #3600 - 1 hour\n",
    "    #43200 - 12 hours\n",
    "    #86400 - 1 day\n",
    "    #604800 - 1 week\n",
    "    #2592000 - 1 month\n",
    "    #7776000 - 3 months\n",
    "    #15552000 - 6 months\n",
    "    #31536000 - 1 year\n",
    "    # http://developer.oanda.com/rest-live/forex-labs/\n",
    "\n",
    "    r = labs.Calendar(params=params)\n",
    "    client.request(r)\n",
    "    \n",
    "    df = pd.DataFrame.from_dict(r.response, orient='columns')\n",
    "    \n",
    "    df['timestamp'] = pd.to_datetime(df['timestamp']*1000000000)\n",
    "    df = df[['impact', 'timestamp']]\n",
    "    df.columns = ['impact', 'time']\n",
    "\n",
    "    return df.groupby('time').sum().reset_index()"
   ]
  },
  {
   "cell_type": "code",
   "execution_count": 5,
   "metadata": {},
   "outputs": [],
   "source": [
    "def merge(history, calendar):\n",
    "    return pd.merge(history, calendar, left_on = 'time', right_on = 'time', how='outer')\\\n",
    "                                                                            .set_index('time')\\\n",
    "                                                                            .astype(float)\\\n",
    "                                                                            .fillna(0)"
   ]
  },
  {
   "cell_type": "code",
   "execution_count": 6,
   "metadata": {},
   "outputs": [],
   "source": [
    "def broaden_impact(df, period):\n",
    "    df = df.reset_index().sort_values('time').set_index('time')\n",
    "\n",
    "    for i in range(periods):\n",
    "        df.loc[\n",
    "            (df['impact'].shift(-1-i) != 0)\n",
    "        ,'impact'] = df['impact'].shift(-1-i)\n",
    "    \n",
    "    df['impact'] = df['impact'].fillna(0)\n",
    "\n",
    "    return df[df['low'] != 0]"
   ]
  },
  {
   "cell_type": "code",
   "execution_count": 7,
   "metadata": {},
   "outputs": [],
   "source": [
    "client = API(access_token='f8599fa0624567b98d6293acc87489bb-e288ec05b46b6e3d0bc753e6a2fbab48')\n",
    "aid = '101-004-8182547-007'"
   ]
  },
  {
   "cell_type": "code",
   "execution_count": 8,
   "metadata": {},
   "outputs": [],
   "source": [
    "granularity_param = 'M5'"
   ]
  },
  {
   "cell_type": "code",
   "execution_count": 9,
   "metadata": {},
   "outputs": [],
   "source": [
    "calendar = cal(client, 'EUR_USD', 604800)"
   ]
  },
  {
   "cell_type": "code",
   "execution_count": 10,
   "metadata": {},
   "outputs": [],
   "source": [
    "history = hist(client, 'EUR_USD', 2, 0, granularity_param)"
   ]
  },
  {
   "cell_type": "code",
   "execution_count": 11,
   "metadata": {},
   "outputs": [],
   "source": [
    "merged = merge(history, calendar)"
   ]
  },
  {
   "cell_type": "code",
   "execution_count": 12,
   "metadata": {},
   "outputs": [],
   "source": [
    "merged = merged[merged['high'] != 0]"
   ]
  },
  {
   "cell_type": "markdown",
   "metadata": {},
   "source": [
    "## Use params to modify sample data"
   ]
  },
  {
   "cell_type": "code",
   "execution_count": 13,
   "metadata": {},
   "outputs": [],
   "source": [
    "averageMultiplayer = 1.3\n",
    "bottomBarrierPips = 0.0040\n",
    "endingHour = 12\n",
    "openingInterval = 1\n",
    "slPips = 0.0015\n",
    "startingHour = 8\n",
    "tpMultiplier = 1.4\n",
    "\n",
    "tradeUnits = 100\n",
    "instrument = 'EUR_USD'"
   ]
  },
  {
   "cell_type": "code",
   "execution_count": 29,
   "metadata": {},
   "outputs": [],
   "source": [
    "# TO BE REMOVED\n",
    "OpenSample = merged[\n",
    "    (\n",
    "        (merged.index.hour >= 2) & \n",
    "        (merged.index.hour < startingHour + openingInterval) &\n",
    "        (merged.index.minute.isin([20, 40]))\n",
    "    ) |\n",
    "    ( \n",
    "        (merged.index.hour == startingHour + openingInterval) &\n",
    "        (merged.index.minute.isin([0]))\n",
    "    )\n",
    "]"
   ]
  },
  {
   "cell_type": "code",
   "execution_count": 30,
   "metadata": {},
   "outputs": [
    {
     "name": "stderr",
     "output_type": "stream",
     "text": [
      "/home/jacek/anaconda3/lib/python3.7/site-packages/ipykernel_launcher.py:1: SettingWithCopyWarning: \n",
      "A value is trying to be set on a copy of a slice from a DataFrame.\n",
      "Try using .loc[row_indexer,col_indexer] = value instead\n",
      "\n",
      "See the caveats in the documentation: http://pandas.pydata.org/pandas-docs/stable/indexing.html#indexing-view-versus-copy\n",
      "  \"\"\"Entry point for launching an IPython kernel.\n",
      "/home/jacek/anaconda3/lib/python3.7/site-packages/ipykernel_launcher.py:2: SettingWithCopyWarning: \n",
      "A value is trying to be set on a copy of a slice from a DataFrame.\n",
      "Try using .loc[row_indexer,col_indexer] = value instead\n",
      "\n",
      "See the caveats in the documentation: http://pandas.pydata.org/pandas-docs/stable/indexing.html#indexing-view-versus-copy\n",
      "  \n"
     ]
    }
   ],
   "source": [
    "OpenSample['ma5'] = OpenSample['close'].rolling(5).mean()\n",
    "OpenSample['ma10'] = OpenSample['close'].rolling(10).mean()\n",
    "OpenSample = OpenSample.dropna()"
   ]
  },
  {
   "cell_type": "code",
   "execution_count": 31,
   "metadata": {},
   "outputs": [
    {
     "data": {
      "text/html": [
       "<div>\n",
       "<style scoped>\n",
       "    .dataframe tbody tr th:only-of-type {\n",
       "        vertical-align: middle;\n",
       "    }\n",
       "\n",
       "    .dataframe tbody tr th {\n",
       "        vertical-align: top;\n",
       "    }\n",
       "\n",
       "    .dataframe thead th {\n",
       "        text-align: right;\n",
       "    }\n",
       "</style>\n",
       "<table border=\"1\" class=\"dataframe\">\n",
       "  <thead>\n",
       "    <tr style=\"text-align: right;\">\n",
       "      <th></th>\n",
       "      <th>open</th>\n",
       "      <th>high</th>\n",
       "      <th>low</th>\n",
       "      <th>close</th>\n",
       "      <th>vol</th>\n",
       "      <th>impact</th>\n",
       "      <th>ma5</th>\n",
       "      <th>ma10</th>\n",
       "    </tr>\n",
       "    <tr>\n",
       "      <th>time</th>\n",
       "      <th></th>\n",
       "      <th></th>\n",
       "      <th></th>\n",
       "      <th></th>\n",
       "      <th></th>\n",
       "      <th></th>\n",
       "      <th></th>\n",
       "      <th></th>\n",
       "    </tr>\n",
       "  </thead>\n",
       "  <tbody>\n",
       "    <tr>\n",
       "      <th>2019-04-05 06:40:00</th>\n",
       "      <td>1.12338</td>\n",
       "      <td>1.12338</td>\n",
       "      <td>1.12315</td>\n",
       "      <td>1.12335</td>\n",
       "      <td>37.0</td>\n",
       "      <td>0.0</td>\n",
       "      <td>1.123024</td>\n",
       "      <td>1.122756</td>\n",
       "    </tr>\n",
       "    <tr>\n",
       "      <th>2019-04-05 07:20:00</th>\n",
       "      <td>1.12254</td>\n",
       "      <td>1.12265</td>\n",
       "      <td>1.12248</td>\n",
       "      <td>1.12256</td>\n",
       "      <td>61.0</td>\n",
       "      <td>0.0</td>\n",
       "      <td>1.122996</td>\n",
       "      <td>1.122757</td>\n",
       "    </tr>\n",
       "    <tr>\n",
       "      <th>2019-04-05 07:40:00</th>\n",
       "      <td>1.12284</td>\n",
       "      <td>1.12299</td>\n",
       "      <td>1.12278</td>\n",
       "      <td>1.12297</td>\n",
       "      <td>39.0</td>\n",
       "      <td>0.0</td>\n",
       "      <td>1.123022</td>\n",
       "      <td>1.122804</td>\n",
       "    </tr>\n",
       "    <tr>\n",
       "      <th>2019-04-05 08:20:00</th>\n",
       "      <td>1.12278</td>\n",
       "      <td>1.12292</td>\n",
       "      <td>1.12255</td>\n",
       "      <td>1.12286</td>\n",
       "      <td>48.0</td>\n",
       "      <td>0.0</td>\n",
       "      <td>1.123022</td>\n",
       "      <td>1.122850</td>\n",
       "    </tr>\n",
       "    <tr>\n",
       "      <th>2019-04-05 08:40:00</th>\n",
       "      <td>1.12262</td>\n",
       "      <td>1.12274</td>\n",
       "      <td>1.12255</td>\n",
       "      <td>1.12274</td>\n",
       "      <td>26.0</td>\n",
       "      <td>0.0</td>\n",
       "      <td>1.122896</td>\n",
       "      <td>1.122877</td>\n",
       "    </tr>\n",
       "    <tr>\n",
       "      <th>2019-04-05 09:00:00</th>\n",
       "      <td>1.12298</td>\n",
       "      <td>1.12310</td>\n",
       "      <td>1.12296</td>\n",
       "      <td>1.12298</td>\n",
       "      <td>43.0</td>\n",
       "      <td>0.0</td>\n",
       "      <td>1.122822</td>\n",
       "      <td>1.122923</td>\n",
       "    </tr>\n",
       "  </tbody>\n",
       "</table>\n",
       "</div>"
      ],
      "text/plain": [
       "                        open     high      low    close   vol  impact  \\\n",
       "time                                                                    \n",
       "2019-04-05 06:40:00  1.12338  1.12338  1.12315  1.12335  37.0     0.0   \n",
       "2019-04-05 07:20:00  1.12254  1.12265  1.12248  1.12256  61.0     0.0   \n",
       "2019-04-05 07:40:00  1.12284  1.12299  1.12278  1.12297  39.0     0.0   \n",
       "2019-04-05 08:20:00  1.12278  1.12292  1.12255  1.12286  48.0     0.0   \n",
       "2019-04-05 08:40:00  1.12262  1.12274  1.12255  1.12274  26.0     0.0   \n",
       "2019-04-05 09:00:00  1.12298  1.12310  1.12296  1.12298  43.0     0.0   \n",
       "\n",
       "                          ma5      ma10  \n",
       "time                                     \n",
       "2019-04-05 06:40:00  1.123024  1.122756  \n",
       "2019-04-05 07:20:00  1.122996  1.122757  \n",
       "2019-04-05 07:40:00  1.123022  1.122804  \n",
       "2019-04-05 08:20:00  1.123022  1.122850  \n",
       "2019-04-05 08:40:00  1.122896  1.122877  \n",
       "2019-04-05 09:00:00  1.122822  1.122923  "
      ]
     },
     "execution_count": 31,
     "metadata": {},
     "output_type": "execute_result"
    }
   ],
   "source": [
    "OpenSample"
   ]
  },
  {
   "cell_type": "code",
   "execution_count": 32,
   "metadata": {},
   "outputs": [],
   "source": [
    "OpenSample = OpenSample.iloc[:-1]"
   ]
  },
  {
   "cell_type": "markdown",
   "metadata": {},
   "source": [
    "## Opening function"
   ]
  },
  {
   "cell_type": "markdown",
   "metadata": {},
   "source": [
    "So, each 20 minutes there will be crone job scheduled with this python script. Every 20 minutes it will check which candle/hour it is, and depending on it will do some action"
   ]
  },
  {
   "cell_type": "code",
   "execution_count": 33,
   "metadata": {
    "scrolled": true
   },
   "outputs": [],
   "source": [
    "# openTrade(client, aid, 'EUR_USD', 100, 0.0020, 0.0040)"
   ]
  },
  {
   "cell_type": "code",
   "execution_count": 34,
   "metadata": {},
   "outputs": [],
   "source": [
    "# len(get_trades(client, aid)['trades'])"
   ]
  },
  {
   "cell_type": "code",
   "execution_count": 46,
   "metadata": {},
   "outputs": [
    {
     "name": "stdout",
     "output_type": "stream",
     "text": [
      "next candles\n"
     ]
    }
   ],
   "source": [
    "# EACH TIME OPEN PRICE OF CANDLE (CURRENT PRICE ACTUALY) WILL MATTER\n",
    "tradeUnits = 100\n",
    "instrument = 'EUR_USD'\n",
    "candleData = OpenSample\n",
    "\n",
    "def openTrade(api, aid, instrument, tradeUnits, sl, tp):\n",
    "    data = {\n",
    "        \"order\":{\n",
    "            \"instrument\": instrument,\n",
    "            \"units\": tradeUnits,\n",
    "            \"side\": \"sell\",\n",
    "            \"type\":\"MARKET\",\n",
    "            \"stopLossOnFill\": {\n",
    "              \"timeInForce\": \"GTC\",\n",
    "              \"price\": str(sl),\n",
    "            },\n",
    "            \"takeProfitOnFill\": {\n",
    "              \"timeInForce\": \"GTC\",\n",
    "              \"price\": str(tp),\n",
    "            },\n",
    "            },\n",
    "            \"lowerBound\": 0.0005,\n",
    "            \"upperBound\": 0.0005,   \n",
    "        }\n",
    "\n",
    "    o = orders.OrderCreate(aid, data=data)\n",
    "    return api.request(o)\n",
    "\n",
    "\n",
    "def get_trades(api, aid):\n",
    "    trades_list = trades.OpenTrades(accountID=aid)\n",
    "    return api.request(trades_list)['trades']\n",
    "\n",
    "def change_sl_tp(client, aid, tradeID, sl, tp):\n",
    "    data = {\n",
    "      \"takeProfit\": {\n",
    "        \"timeInForce\": \"GTC\",\n",
    "        \"price\": str(tp)\n",
    "      },\n",
    "      \"stopLoss\": {\n",
    "        \"timeInForce\": \"GTC\",\n",
    "        \"price\": str(sl)\n",
    "      }\n",
    "    }\n",
    "\n",
    "    r = trades.TradeCRCDO(accountID=aid,\n",
    "                           tradeID=tradeID,\n",
    "                           data=data)\n",
    "    return client.request(r)\n",
    "\n",
    "if len(candleData[candleData['impact'] != 0]) == 0:\n",
    "    currentCandle = candleData.iloc[-1]\n",
    "    \n",
    "    # FIRST OPEN\n",
    "    if (currentCandle.name.hour == startingHour and\\\n",
    "        currentCandle.name.minute == 20):\n",
    "        \n",
    "        openTrade(client, aid, instrument, tradeUnits, bottomBarrierPips, 0.0100)\n",
    "    \n",
    "    # OPEN OTHERS\n",
    "    if ((currentCandle.name.hour == startingHour) and\\\n",
    "        (currentCandle.name.minute == 40)) or\\\n",
    "       ((currentCandle.name.hour > startingHour) and\\\n",
    "        (currentCandle.name.hour < startingHour + openingInterval)):\n",
    "        \n",
    "        if currentCandle['ma5'] > currentCandle['ma10']:\n",
    "        \n",
    "            tradesList = get_trades(client, aid)\n",
    "            if len(tradesList) != 0:\n",
    "                firstTimestamp = '2050-10-28T14:28:05.231759081Z'\n",
    "                pricesContainer = []\n",
    "                for trade in tradesList:\n",
    "                    pricesContainer.append(trade['price'])\n",
    "                    if trade['openTime'] < firstTimestamp:\n",
    "                        firstTimestamp = trade['openTime']\n",
    "                        firstSL = trade['stopLossOnFill']['price']\n",
    "                        basePrice = trade['price']\n",
    "                    # EDGE CASE: trades before were closed because of bottomBarrier\n",
    "                    # (or stoploss in other words), so it will open another trade\n",
    "                    if currentCandle['open'] > firstSL:\n",
    "                        if currentCandle['open'] < basePrice:\n",
    "                            if currentCandle['open'] < min(pricesContainer):\n",
    "                                unitsMultiplayed = len(pricesContainer) * averageMultiplayer\n",
    "                                openTrade(client, aid, instrument, unitsMultiplayed, firstSL, 0.0100)\n",
    "\n",
    "        print('next candles')\n",
    "        \n",
    "    # OPEN THE LAST ONE \n",
    "    # MOVE SL AT THE END OF OPENING INTERVAL\n",
    "    elif (currentCandle.name.hour == startingHour + openingInterval and\\\n",
    "        currentCandle.name.minute == 0):\n",
    "        \n",
    "        if currentCandle['ma5'] > currentCandle['ma10']:\n",
    "        \n",
    "            tradesList = get_trades(client, aid)\n",
    "            if len(tradesList) != 0:\n",
    "                firstTimestamp = '2050-10-28T14:28:05.231759081Z'\n",
    "                pricesContainer = []\n",
    "                for trade in tradesList:\n",
    "                    pricesContainer.append(trade['price'])\n",
    "                    unitsContainer.append(trade['initialUnits'])\n",
    "                    if trade['openTime'] < firstTimestamp:\n",
    "                        firstTimestamp = trade['openTime']\n",
    "                        firstSL = trade['stopLossOnFill']['price']\n",
    "                        basePrice = trade['price']\n",
    "                    # EDGE CASE: trades before were closed because of bottomBarrier\n",
    "                    # (or stoploss in other words), so it will open another trade\n",
    "                    if currentCandle['open'] > firstSL:\n",
    "                        if currentCandle['open'] < basePrice:\n",
    "                            if currentCandle['open'] < min(pricesContainer):\n",
    "                                unitsMultiplayed = len(pricesContainer) * averageMultiplayer\n",
    "                                openTrade(client, aid, instrument, unitsMultiplayed, firstSL, 0.0100)\n",
    "        \n",
    "        pricesContainer = []\n",
    "        unitsContainer = []\n",
    "        for trade in get_trades(client, aid):\n",
    "            pricesContainer.append(trade['price'])\n",
    "            unitsContainer.append(trade['initialUnits'])\n",
    "        \n",
    "         if len(pricesContainer) != 0:\n",
    "            weightedPrices = []\n",
    "            for i in range(len(pricesContainer)):\n",
    "                weightedPrices.append(pricesContainer[i] * unitsContainer[i])\n",
    "            averagePrice = weightedPrices / sum(unitsContainer)\n",
    "            newSL = averagePrice - slPips\n",
    "            newTP = averagePrice + (slPips * tpMultiplier)\n",
    "\n",
    "            for trade in get_trades(client, aid):\n",
    "                change_sl_tp(client, aid, trade['id'], newSL, newTP)\n",
    "    \n",
    "        # EDGE CASE: IT CAN TRY TO MOVE SL TOO CLOSE TO TRADES\n",
    "        print('last one')\n",
    "        \n",
    "    \n",
    "    # CLOSE TRADES (ENDING BARRIER)\n",
    "    elif currentCandle.name.hour == endingHour:\n",
    "        \n",
    "        for trade in get_trades(client, aid):\n",
    "            trades.TradeClose(accountID=aid, data={\"units\": trade['initialUnits']})\n",
    "        \n",
    "        print('ending hour')\n",
    "    \n",
    "    else:\n",
    "        print('no action')"
   ]
  },
  {
   "cell_type": "code",
   "execution_count": null,
   "metadata": {},
   "outputs": [],
   "source": [
    "\n"
   ]
  },
  {
   "cell_type": "code",
   "execution_count": null,
   "metadata": {},
   "outputs": [],
   "source": []
  }
 ],
 "metadata": {
  "kernelspec": {
   "display_name": "Python 3",
   "language": "python",
   "name": "python3"
  },
  "language_info": {
   "codemirror_mode": {
    "name": "ipython",
    "version": 3
   },
   "file_extension": ".py",
   "mimetype": "text/x-python",
   "name": "python",
   "nbconvert_exporter": "python",
   "pygments_lexer": "ipython3",
   "version": "3.7.2"
  }
 },
 "nbformat": 4,
 "nbformat_minor": 2
}
