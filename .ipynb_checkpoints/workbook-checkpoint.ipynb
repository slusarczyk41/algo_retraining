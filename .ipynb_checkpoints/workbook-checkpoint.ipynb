{
 "cells": [
  {
   "cell_type": "code",
   "execution_count": 8,
   "metadata": {},
   "outputs": [],
   "source": [
    "from tools import stream\n",
    "import requests\n",
    "import pandas as pd"
   ]
  },
  {
   "cell_type": "code",
   "execution_count": null,
   "metadata": {},
   "outputs": [],
   "source": []
  },
  {
   "cell_type": "code",
   "execution_count": null,
   "metadata": {},
   "outputs": [],
   "source": []
  },
  {
   "cell_type": "code",
   "execution_count": 102,
   "metadata": {},
   "outputs": [],
   "source": [
    "def get_book(instrument, tmp_typ, bucketNumber):\n",
    "    if tmp_typ == 'positions':\n",
    "        typ = 'positionBook'\n",
    "    elif tmp_typ == 'orders':\n",
    "        typ = 'orderBook'\n",
    "    else:\n",
    "        return 'Wrong type'\n",
    "    \n",
    "    response = requests.get(\n",
    "        url = 'https://api-fxpractice.oanda.com/v3/instruments/{}/{}'.format(instrument, typ),\n",
    "        headers = {\n",
    "            'Authorization' : 'Bearer ' + open('key', 'r').read(),\n",
    "        }\n",
    "    ).json()\n",
    "\n",
    "    if 'errorMessage' in response.keys():\n",
    "        return response['errorMessage']\n",
    "    else:\n",
    "        bucketPrices = []\n",
    "        bucketDict = {}\n",
    "        for bucket in response[typ]['buckets']:\n",
    "            bucketPrices.append(float(bucket['price']))\n",
    "            bucketDict[float(bucket['price'])] = {\n",
    "                \"long\": bucket['longCountPercent'],\n",
    "                \"short\": bucket['shortCountPercent'],\n",
    "            }\n",
    "        \n",
    "        returnBuckets = {}\n",
    "        closestPrice = min(bucketPrices, key=lambda x:abs(x-float(response[typ]['price'])))\n",
    "        for i in range(bucketNumber+1, 1, -1):\n",
    "            priceToLookUp = round(closestPrice + (float(response[typ]['bucketWidth']) * i),4)\n",
    "            returnBuckets[priceToLookUp] = {\n",
    "                'longs': bucketDict[priceToLookUp]['long'],\n",
    "                'shorts': bucketDict[priceToLookUp]['short'],\n",
    "            }\n",
    "            \n",
    "        returnBuckets[closestPrice] = {\n",
    "            'longs': bucketDict[closestPrice]['long'],\n",
    "            'shorts': bucketDict[closestPrice]['short'],\n",
    "        }\n",
    "            \n",
    "        for i in range(1, bucketNumber+1):\n",
    "            priceToLookUp = round(closestPrice - (float(response[typ]['bucketWidth']) * i),4)\n",
    "            returnBuckets[priceToLookUp] = {\n",
    "                'longs': bucketDict[priceToLookUp]['long'],\n",
    "                'shorts': bucketDict[priceToLookUp]['short'],\n",
    "            }\n",
    "        \n",
    "        return returnBuckets"
   ]
  },
  {
   "cell_type": "code",
   "execution_count": 103,
   "metadata": {},
   "outputs": [
    {
     "data": {
      "text/plain": [
       "{1.1305: {'longs': '0.0907', 'shorts': '0.1626'},\n",
       " 1.13: {'longs': '0.0594', 'shorts': '0.0782'},\n",
       " 1.1295: {'longs': '0.0563', 'shorts': '0.1220'},\n",
       " 1.1285: {'longs': '0.0876', 'shorts': '0.1595'},\n",
       " 1.128: {'longs': '0.1877', 'shorts': '0.0844'},\n",
       " 1.1275: {'longs': '0.4254', 'shorts': '0.4066'},\n",
       " 1.127: {'longs': '0.4285', 'shorts': '0.2877'}}"
      ]
     },
     "execution_count": 103,
     "metadata": {},
     "output_type": "execute_result"
    }
   ],
   "source": [
    "get_book('EUR_USD', 'orders', 3)"
   ]
  },
  {
   "cell_type": "code",
   "execution_count": null,
   "metadata": {},
   "outputs": [],
   "source": []
  },
  {
   "cell_type": "code",
   "execution_count": null,
   "metadata": {},
   "outputs": [],
   "source": []
  },
  {
   "cell_type": "code",
   "execution_count": 1,
   "metadata": {},
   "outputs": [],
   "source": [
    "from tools import stream, get_book"
   ]
  },
  {
   "cell_type": "code",
   "execution_count": 2,
   "metadata": {},
   "outputs": [
    {
     "data": {
      "text/plain": [
       "{1.1305: {'longs': '0.0907', 'shorts': '0.1626'},\n",
       " 1.13: {'longs': '0.0594', 'shorts': '0.0782'},\n",
       " 1.1295: {'longs': '0.0563', 'shorts': '0.1220'},\n",
       " 1.1285: {'longs': '0.0876', 'shorts': '0.1595'},\n",
       " 1.128: {'longs': '0.1877', 'shorts': '0.0844'},\n",
       " 1.1275: {'longs': '0.4254', 'shorts': '0.4066'},\n",
       " 1.127: {'longs': '0.4285', 'shorts': '0.2877'}}"
      ]
     },
     "execution_count": 2,
     "metadata": {},
     "output_type": "execute_result"
    }
   ],
   "source": [
    "get_book('EUR_USD', 'orders', 3)"
   ]
  },
  {
   "cell_type": "code",
   "execution_count": null,
   "metadata": {},
   "outputs": [],
   "source": []
  }
 ],
 "metadata": {
  "kernelspec": {
   "display_name": "Python 3",
   "language": "python",
   "name": "python3"
  },
  "language_info": {
   "codemirror_mode": {
    "name": "ipython",
    "version": 3
   },
   "file_extension": ".py",
   "mimetype": "text/x-python",
   "name": "python",
   "nbconvert_exporter": "python",
   "pygments_lexer": "ipython3",
   "version": "3.7.2"
  }
 },
 "nbformat": 4,
 "nbformat_minor": 2
}
