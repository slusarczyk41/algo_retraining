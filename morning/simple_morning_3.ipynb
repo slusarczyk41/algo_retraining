{
 "cells": [
  {
   "cell_type": "code",
   "execution_count": 1,
   "metadata": {},
   "outputs": [],
   "source": [
    "import pandas as pd\n",
    "import datetime as dt\n",
    "import numpy as np"
   ]
  },
  {
   "cell_type": "code",
   "execution_count": 117,
   "metadata": {},
   "outputs": [],
   "source": [
    "from oandapyV20 import API\n",
    "from oandapyV20.contrib.factories import InstrumentsCandlesFactory\n",
    "import oandapyV20.endpoints.forexlabs as labs\n",
    "import oandapyV20.endpoints.orders as ordersEndpoint\n",
    "import oandapyV20.endpoints.trades as tradesEndpoint"
   ]
  },
  {
   "cell_type": "markdown",
   "metadata": {},
   "source": [
    "### Order book data scrapped using different notebook"
   ]
  },
  {
   "cell_type": "code",
   "execution_count": 3,
   "metadata": {},
   "outputs": [],
   "source": [
    "orders = pd.concat([\n",
    "    pd.read_csv('order_book/january.csv'),\n",
    "    pd.read_csv('order_book/january_missing.csv'),\n",
    "    pd.read_csv('order_book/february.csv'),\n",
    "    pd.read_csv('order_book/march.csv'),\n",
    "])"
   ]
  },
  {
   "cell_type": "code",
   "execution_count": 4,
   "metadata": {},
   "outputs": [],
   "source": [
    "positions = pd.concat([\n",
    "    pd.read_csv('position_book/january.csv'),\n",
    "    pd.read_csv('position_book/february.csv'),\n",
    "    pd.read_csv('position_book/march.csv'),\n",
    "])"
   ]
  },
  {
   "cell_type": "markdown",
   "metadata": {},
   "source": [
    "### Functions for getting candle data"
   ]
  },
  {
   "cell_type": "code",
   "execution_count": 5,
   "metadata": {},
   "outputs": [],
   "source": [
    "def hist(api, instrument, start_days, end_days, granularity):\n",
    "\n",
    "    start_date = (dt.datetime.now()-dt.timedelta(days=start_days)).strftime('%Y-%m-%dT%H:%M:%SZ')\n",
    "    end_date = (dt.datetime.now()-dt.timedelta(days=end_days, hours=2,minutes=4)).strftime('%Y-%m-%dT%H:%M:%SZ')\n",
    "\n",
    "    params ={\n",
    "                \"from\": start_date,\n",
    "                \"to\": end_date,\n",
    "                \"granularity\":granularity,\n",
    "            }\n",
    "\n",
    "    df_list = []\n",
    "    for r in InstrumentsCandlesFactory(instrument=instrument,params=params):\n",
    "        api.request(r)\n",
    "        df = pd.DataFrame(r.response['candles'])\n",
    "        if(df.empty==False):\n",
    "            time = df['time']\n",
    "            volume = pd.DataFrame(df['volume'].apply(pd.Series))\n",
    "            df = pd.DataFrame(df['mid'].apply(pd.Series))\n",
    "            df = pd.concat([df,time,volume], axis=1)\n",
    "            df['time'] = pd.to_datetime(df['time'], format='%Y-%m-%dT%H:%M:%S.000000000Z')\n",
    "            #df.set_index('time',inplace=True)\n",
    "            df_list.append(df)\n",
    "    \n",
    "    final = pd.concat(df_list)\n",
    "    \n",
    "    names = {\n",
    "        'o': 'open',\n",
    "        'c': 'close',\n",
    "        'h': 'high',\n",
    "        'l': 'low',\n",
    "        0: 'vol',\n",
    "        'time': 'time',\n",
    "    }\n",
    "    new_names = []\n",
    "    for column_name in final.columns:\n",
    "        new_names.append(names[column_name])\n",
    "    final.columns = new_names\n",
    "    \n",
    "    return final"
   ]
  },
  {
   "cell_type": "code",
   "execution_count": 6,
   "metadata": {},
   "outputs": [],
   "source": [
    "def cal(client, instrument, perdiod):\n",
    "\n",
    "    \n",
    "    \n",
    "    params = {\n",
    "        \"instrument\": instrument,\n",
    "        \"period\": perdiod\n",
    "    }\n",
    "    \n",
    "    # PERIOD VALUES\n",
    "    #3600 - 1 hour\n",
    "    #43200 - 12 hours\n",
    "    #86400 - 1 day\n",
    "    #604800 - 1 week\n",
    "    #2592000 - 1 month\n",
    "    #7776000 - 3 months\n",
    "    #15552000 - 6 months\n",
    "    #31536000 - 1 year\n",
    "    # http://developer.oanda.com/rest-live/forex-labs/\n",
    "\n",
    "    r = labs.Calendar(params=params)\n",
    "    client.request(r)\n",
    "    \n",
    "    df = pd.DataFrame.from_dict(r.response, orient='columns')\n",
    "    \n",
    "    df['timestamp'] = pd.to_datetime(df['timestamp']*1000000000)\n",
    "    df = df[['impact', 'timestamp']]\n",
    "    df.columns = ['impact', 'time']\n",
    "\n",
    "    return df.groupby('time').sum().reset_index()"
   ]
  },
  {
   "cell_type": "code",
   "execution_count": 7,
   "metadata": {},
   "outputs": [],
   "source": [
    "def merge(history, calendar):\n",
    "    return pd.merge(history, calendar, left_on = 'time', right_on = 'time', how='outer')\\\n",
    "                                                                            .set_index('time')\\\n",
    "                                                                            .astype(float)\\\n",
    "                                                                            .fillna(0)"
   ]
  },
  {
   "cell_type": "code",
   "execution_count": 8,
   "metadata": {},
   "outputs": [],
   "source": [
    "def broaden_impact(df, period):\n",
    "    df = df.reset_index().sort_values('time').set_index('time')\n",
    "\n",
    "    for i in range(periods):\n",
    "        df.loc[\n",
    "            (df['impact'].shift(-1-i) != 0)\n",
    "        ,'impact'] = df['impact'].shift(-1-i)\n",
    "    \n",
    "    df['impact'] = df['impact'].fillna(0)\n",
    "\n",
    "    return df[df['low'] != 0]"
   ]
  },
  {
   "cell_type": "markdown",
   "metadata": {},
   "source": [
    "## Get needed data"
   ]
  },
  {
   "cell_type": "code",
   "execution_count": 157,
   "metadata": {},
   "outputs": [],
   "source": [
    "client = API(access_token='f8599fa0624567b98d6293acc87489bb-e288ec05b46b6e3d0bc753e6a2fbab48')"
   ]
  },
  {
   "cell_type": "code",
   "execution_count": 158,
   "metadata": {},
   "outputs": [],
   "source": [
    "granularity_param = 'M5'"
   ]
  },
  {
   "cell_type": "code",
   "execution_count": 159,
   "metadata": {},
   "outputs": [],
   "source": [
    "calendar = cal(client, 'GBP_USD', 7776000)"
   ]
  },
  {
   "cell_type": "code",
   "execution_count": 160,
   "metadata": {},
   "outputs": [],
   "source": [
    "history = hist(client, 'GBP_USD', 90, 0, granularity_param)"
   ]
  },
  {
   "cell_type": "code",
   "execution_count": 161,
   "metadata": {},
   "outputs": [],
   "source": [
    "merged = merge(history, calendar)"
   ]
  },
  {
   "cell_type": "code",
   "execution_count": 162,
   "metadata": {},
   "outputs": [
    {
     "data": {
      "text/html": [
       "<div>\n",
       "<style scoped>\n",
       "    .dataframe tbody tr th:only-of-type {\n",
       "        vertical-align: middle;\n",
       "    }\n",
       "\n",
       "    .dataframe tbody tr th {\n",
       "        vertical-align: top;\n",
       "    }\n",
       "\n",
       "    .dataframe thead th {\n",
       "        text-align: right;\n",
       "    }\n",
       "</style>\n",
       "<table border=\"1\" class=\"dataframe\">\n",
       "  <thead>\n",
       "    <tr style=\"text-align: right;\">\n",
       "      <th></th>\n",
       "      <th>open</th>\n",
       "      <th>high</th>\n",
       "      <th>low</th>\n",
       "      <th>close</th>\n",
       "      <th>vol</th>\n",
       "      <th>impact</th>\n",
       "    </tr>\n",
       "    <tr>\n",
       "      <th>time</th>\n",
       "      <th></th>\n",
       "      <th></th>\n",
       "      <th></th>\n",
       "      <th></th>\n",
       "      <th></th>\n",
       "      <th></th>\n",
       "    </tr>\n",
       "  </thead>\n",
       "  <tbody>\n",
       "    <tr>\n",
       "      <th>2019-01-09 21:55:00</th>\n",
       "      <td>1.27884</td>\n",
       "      <td>1.27918</td>\n",
       "      <td>1.27857</td>\n",
       "      <td>1.27908</td>\n",
       "      <td>45.0</td>\n",
       "      <td>0.0</td>\n",
       "    </tr>\n",
       "  </tbody>\n",
       "</table>\n",
       "</div>"
      ],
      "text/plain": [
       "                        open     high      low    close   vol  impact\n",
       "time                                                                 \n",
       "2019-01-09 21:55:00  1.27884  1.27918  1.27857  1.27908  45.0     0.0"
      ]
     },
     "execution_count": 162,
     "metadata": {},
     "output_type": "execute_result"
    }
   ],
   "source": [
    "merged.head(1)"
   ]
  },
  {
   "cell_type": "code",
   "execution_count": 163,
   "metadata": {},
   "outputs": [
    {
     "data": {
      "text/html": [
       "<div>\n",
       "<style scoped>\n",
       "    .dataframe tbody tr th:only-of-type {\n",
       "        vertical-align: middle;\n",
       "    }\n",
       "\n",
       "    .dataframe tbody tr th {\n",
       "        vertical-align: top;\n",
       "    }\n",
       "\n",
       "    .dataframe thead th {\n",
       "        text-align: right;\n",
       "    }\n",
       "</style>\n",
       "<table border=\"1\" class=\"dataframe\">\n",
       "  <thead>\n",
       "    <tr style=\"text-align: right;\">\n",
       "      <th></th>\n",
       "      <th>Unnamed: 0_orders</th>\n",
       "      <th>time_orders</th>\n",
       "      <th>price_orders</th>\n",
       "      <th>roundedPrice_orders</th>\n",
       "      <th>level_0_l_orders</th>\n",
       "      <th>level_0_s_orders</th>\n",
       "      <th>level_1_up_l_orders</th>\n",
       "      <th>level_1_up_s_orders</th>\n",
       "      <th>level_1_down_l_orders</th>\n",
       "      <th>level_1_down_s_orders</th>\n",
       "      <th>...</th>\n",
       "      <th>level_3_down_l_orders</th>\n",
       "      <th>level_3_down_s_orders</th>\n",
       "      <th>level_4_up_l_orders</th>\n",
       "      <th>level_4_up_s_orders</th>\n",
       "      <th>level_4_down_l_orders</th>\n",
       "      <th>level_4_down_s_orders</th>\n",
       "      <th>level_5_up_l_orders</th>\n",
       "      <th>level_5_up_s_orders</th>\n",
       "      <th>level_5_down_l_orders</th>\n",
       "      <th>level_5_down_s_orders</th>\n",
       "    </tr>\n",
       "    <tr>\n",
       "      <th>time</th>\n",
       "      <th></th>\n",
       "      <th></th>\n",
       "      <th></th>\n",
       "      <th></th>\n",
       "      <th></th>\n",
       "      <th></th>\n",
       "      <th></th>\n",
       "      <th></th>\n",
       "      <th></th>\n",
       "      <th></th>\n",
       "      <th></th>\n",
       "      <th></th>\n",
       "      <th></th>\n",
       "      <th></th>\n",
       "      <th></th>\n",
       "      <th></th>\n",
       "      <th></th>\n",
       "      <th></th>\n",
       "      <th></th>\n",
       "      <th></th>\n",
       "      <th></th>\n",
       "    </tr>\n",
       "  </thead>\n",
       "  <tbody>\n",
       "    <tr>\n",
       "      <th>2019-01-03 15:40:00</th>\n",
       "      <td>0</td>\n",
       "      <td>2019-01-03T15:40:00Z</td>\n",
       "      <td>1.13998</td>\n",
       "      <td>1.14</td>\n",
       "      <td>0.0065</td>\n",
       "      <td>0.0978</td>\n",
       "      <td>0.0</td>\n",
       "      <td>0.0</td>\n",
       "      <td>0.0</td>\n",
       "      <td>0.0</td>\n",
       "      <td>...</td>\n",
       "      <td>0.0</td>\n",
       "      <td>0.0</td>\n",
       "      <td>0.0</td>\n",
       "      <td>0.0</td>\n",
       "      <td>0.0</td>\n",
       "      <td>0.0</td>\n",
       "      <td>0</td>\n",
       "      <td>0</td>\n",
       "      <td>0</td>\n",
       "      <td>0</td>\n",
       "    </tr>\n",
       "  </tbody>\n",
       "</table>\n",
       "<p>1 rows × 26 columns</p>\n",
       "</div>"
      ],
      "text/plain": [
       "                     Unnamed: 0_orders           time_orders  price_orders  \\\n",
       "time                                                                         \n",
       "2019-01-03 15:40:00                  0  2019-01-03T15:40:00Z       1.13998   \n",
       "\n",
       "                     roundedPrice_orders  level_0_l_orders  level_0_s_orders  \\\n",
       "time                                                                           \n",
       "2019-01-03 15:40:00                 1.14            0.0065            0.0978   \n",
       "\n",
       "                     level_1_up_l_orders  level_1_up_s_orders  \\\n",
       "time                                                            \n",
       "2019-01-03 15:40:00                  0.0                  0.0   \n",
       "\n",
       "                     level_1_down_l_orders  level_1_down_s_orders  ...  \\\n",
       "time                                                               ...   \n",
       "2019-01-03 15:40:00                    0.0                    0.0  ...   \n",
       "\n",
       "                     level_3_down_l_orders  level_3_down_s_orders  \\\n",
       "time                                                                \n",
       "2019-01-03 15:40:00                    0.0                    0.0   \n",
       "\n",
       "                     level_4_up_l_orders  level_4_up_s_orders  \\\n",
       "time                                                            \n",
       "2019-01-03 15:40:00                  0.0                  0.0   \n",
       "\n",
       "                     level_4_down_l_orders  level_4_down_s_orders  \\\n",
       "time                                                                \n",
       "2019-01-03 15:40:00                    0.0                    0.0   \n",
       "\n",
       "                     level_5_up_l_orders  level_5_up_s_orders  \\\n",
       "time                                                            \n",
       "2019-01-03 15:40:00                    0                    0   \n",
       "\n",
       "                     level_5_down_l_orders  level_5_down_s_orders  \n",
       "time                                                               \n",
       "2019-01-03 15:40:00                      0                      0  \n",
       "\n",
       "[1 rows x 26 columns]"
      ]
     },
     "execution_count": 163,
     "metadata": {},
     "output_type": "execute_result"
    }
   ],
   "source": [
    "orders.head(1)"
   ]
  },
  {
   "cell_type": "code",
   "execution_count": 164,
   "metadata": {},
   "outputs": [
    {
     "data": {
      "text/html": [
       "<div>\n",
       "<style scoped>\n",
       "    .dataframe tbody tr th:only-of-type {\n",
       "        vertical-align: middle;\n",
       "    }\n",
       "\n",
       "    .dataframe tbody tr th {\n",
       "        vertical-align: top;\n",
       "    }\n",
       "\n",
       "    .dataframe thead th {\n",
       "        text-align: right;\n",
       "    }\n",
       "</style>\n",
       "<table border=\"1\" class=\"dataframe\">\n",
       "  <thead>\n",
       "    <tr style=\"text-align: right;\">\n",
       "      <th></th>\n",
       "      <th>Unnamed: 0_positions</th>\n",
       "      <th>time_positions</th>\n",
       "      <th>price_positions</th>\n",
       "      <th>roundedPrice_positions</th>\n",
       "      <th>level_0_l_positions</th>\n",
       "      <th>level_0_s_positions</th>\n",
       "      <th>level_1_up_l_positions</th>\n",
       "      <th>level_1_up_s_positions</th>\n",
       "      <th>level_1_down_l_positions</th>\n",
       "      <th>level_1_down_s_positions</th>\n",
       "      <th>...</th>\n",
       "      <th>level_3_down_l_positions</th>\n",
       "      <th>level_3_down_s_positions</th>\n",
       "      <th>level_4_up_l_positions</th>\n",
       "      <th>level_4_up_s_positions</th>\n",
       "      <th>level_4_down_l_positions</th>\n",
       "      <th>level_4_down_s_positions</th>\n",
       "      <th>level_5_up_l_positions</th>\n",
       "      <th>level_5_up_s_positions</th>\n",
       "      <th>level_5_down_l_positions</th>\n",
       "      <th>level_5_down_s_positions</th>\n",
       "    </tr>\n",
       "    <tr>\n",
       "      <th>time</th>\n",
       "      <th></th>\n",
       "      <th></th>\n",
       "      <th></th>\n",
       "      <th></th>\n",
       "      <th></th>\n",
       "      <th></th>\n",
       "      <th></th>\n",
       "      <th></th>\n",
       "      <th></th>\n",
       "      <th></th>\n",
       "      <th></th>\n",
       "      <th></th>\n",
       "      <th></th>\n",
       "      <th></th>\n",
       "      <th></th>\n",
       "      <th></th>\n",
       "      <th></th>\n",
       "      <th></th>\n",
       "      <th></th>\n",
       "      <th></th>\n",
       "      <th></th>\n",
       "    </tr>\n",
       "  </thead>\n",
       "  <tbody>\n",
       "    <tr>\n",
       "      <th>2019-01-01</th>\n",
       "      <td>0</td>\n",
       "      <td>2019-01-01T00:00:00Z</td>\n",
       "      <td>1.14649</td>\n",
       "      <td>1.1465</td>\n",
       "      <td>0.3569</td>\n",
       "      <td>0.1814</td>\n",
       "      <td>0.272</td>\n",
       "      <td>0.0848</td>\n",
       "      <td>0.272</td>\n",
       "      <td>0.0848</td>\n",
       "      <td>...</td>\n",
       "      <td>0.1463</td>\n",
       "      <td>0.0936</td>\n",
       "      <td>0.0</td>\n",
       "      <td>0.0</td>\n",
       "      <td>0.0</td>\n",
       "      <td>0.0</td>\n",
       "      <td>0</td>\n",
       "      <td>0</td>\n",
       "      <td>0</td>\n",
       "      <td>0</td>\n",
       "    </tr>\n",
       "  </tbody>\n",
       "</table>\n",
       "<p>1 rows × 26 columns</p>\n",
       "</div>"
      ],
      "text/plain": [
       "            Unnamed: 0_positions        time_positions  price_positions  \\\n",
       "time                                                                      \n",
       "2019-01-01                     0  2019-01-01T00:00:00Z          1.14649   \n",
       "\n",
       "            roundedPrice_positions  level_0_l_positions  level_0_s_positions  \\\n",
       "time                                                                           \n",
       "2019-01-01                  1.1465               0.3569               0.1814   \n",
       "\n",
       "            level_1_up_l_positions  level_1_up_s_positions  \\\n",
       "time                                                         \n",
       "2019-01-01                   0.272                  0.0848   \n",
       "\n",
       "            level_1_down_l_positions  level_1_down_s_positions  ...  \\\n",
       "time                                                            ...   \n",
       "2019-01-01                     0.272                    0.0848  ...   \n",
       "\n",
       "            level_3_down_l_positions  level_3_down_s_positions  \\\n",
       "time                                                             \n",
       "2019-01-01                    0.1463                    0.0936   \n",
       "\n",
       "            level_4_up_l_positions  level_4_up_s_positions  \\\n",
       "time                                                         \n",
       "2019-01-01                     0.0                     0.0   \n",
       "\n",
       "            level_4_down_l_positions  level_4_down_s_positions  \\\n",
       "time                                                             \n",
       "2019-01-01                       0.0                       0.0   \n",
       "\n",
       "            level_5_up_l_positions  level_5_up_s_positions  \\\n",
       "time                                                         \n",
       "2019-01-01                       0                       0   \n",
       "\n",
       "            level_5_down_l_positions  level_5_down_s_positions  \n",
       "time                                                            \n",
       "2019-01-01                         0                         0  \n",
       "\n",
       "[1 rows x 26 columns]"
      ]
     },
     "execution_count": 164,
     "metadata": {},
     "output_type": "execute_result"
    }
   ],
   "source": [
    "positions.head(1)"
   ]
  },
  {
   "cell_type": "code",
   "execution_count": 165,
   "metadata": {},
   "outputs": [
    {
     "ename": "KeyError",
     "evalue": "'time'",
     "output_type": "error",
     "traceback": [
      "\u001b[0;31m---------------------------------------------------------------------------\u001b[0m",
      "\u001b[0;31mKeyError\u001b[0m                                  Traceback (most recent call last)",
      "\u001b[0;32m~/anaconda3/lib/python3.7/site-packages/pandas/core/indexes/base.py\u001b[0m in \u001b[0;36mget_loc\u001b[0;34m(self, key, method, tolerance)\u001b[0m\n\u001b[1;32m   2655\u001b[0m             \u001b[0;32mtry\u001b[0m\u001b[0;34m:\u001b[0m\u001b[0;34m\u001b[0m\u001b[0;34m\u001b[0m\u001b[0m\n\u001b[0;32m-> 2656\u001b[0;31m                 \u001b[0;32mreturn\u001b[0m \u001b[0mself\u001b[0m\u001b[0;34m.\u001b[0m\u001b[0m_engine\u001b[0m\u001b[0;34m.\u001b[0m\u001b[0mget_loc\u001b[0m\u001b[0;34m(\u001b[0m\u001b[0mkey\u001b[0m\u001b[0;34m)\u001b[0m\u001b[0;34m\u001b[0m\u001b[0;34m\u001b[0m\u001b[0m\n\u001b[0m\u001b[1;32m   2657\u001b[0m             \u001b[0;32mexcept\u001b[0m \u001b[0mKeyError\u001b[0m\u001b[0;34m:\u001b[0m\u001b[0;34m\u001b[0m\u001b[0;34m\u001b[0m\u001b[0m\n",
      "\u001b[0;32mpandas/_libs/index.pyx\u001b[0m in \u001b[0;36mpandas._libs.index.IndexEngine.get_loc\u001b[0;34m()\u001b[0m\n",
      "\u001b[0;32mpandas/_libs/index.pyx\u001b[0m in \u001b[0;36mpandas._libs.index.IndexEngine.get_loc\u001b[0;34m()\u001b[0m\n",
      "\u001b[0;32mpandas/_libs/hashtable_class_helper.pxi\u001b[0m in \u001b[0;36mpandas._libs.hashtable.PyObjectHashTable.get_item\u001b[0;34m()\u001b[0m\n",
      "\u001b[0;32mpandas/_libs/hashtable_class_helper.pxi\u001b[0m in \u001b[0;36mpandas._libs.hashtable.PyObjectHashTable.get_item\u001b[0;34m()\u001b[0m\n",
      "\u001b[0;31mKeyError\u001b[0m: 'time'",
      "\nDuring handling of the above exception, another exception occurred:\n",
      "\u001b[0;31mKeyError\u001b[0m                                  Traceback (most recent call last)",
      "\u001b[0;32m<ipython-input-165-7ed747ba0bf6>\u001b[0m in \u001b[0;36m<module>\u001b[0;34m()\u001b[0m\n\u001b[0;32m----> 1\u001b[0;31m \u001b[0morders\u001b[0m \u001b[0;34m=\u001b[0m \u001b[0morders\u001b[0m\u001b[0;34m.\u001b[0m\u001b[0mset_index\u001b[0m\u001b[0;34m(\u001b[0m\u001b[0mpd\u001b[0m\u001b[0;34m.\u001b[0m\u001b[0mto_datetime\u001b[0m\u001b[0;34m(\u001b[0m\u001b[0morders\u001b[0m\u001b[0;34m[\u001b[0m\u001b[0;34m'time'\u001b[0m\u001b[0;34m]\u001b[0m\u001b[0;34m,\u001b[0m \u001b[0mformat\u001b[0m\u001b[0;34m=\u001b[0m\u001b[0;34m\"%Y-%m-%dT%H:%M:%SZ\"\u001b[0m\u001b[0;34m)\u001b[0m\u001b[0;34m)\u001b[0m\u001b[0;34m\u001b[0m\u001b[0;34m\u001b[0m\u001b[0m\n\u001b[0m",
      "\u001b[0;32m~/anaconda3/lib/python3.7/site-packages/pandas/core/frame.py\u001b[0m in \u001b[0;36m__getitem__\u001b[0;34m(self, key)\u001b[0m\n\u001b[1;32m   2925\u001b[0m             \u001b[0;32mif\u001b[0m \u001b[0mself\u001b[0m\u001b[0;34m.\u001b[0m\u001b[0mcolumns\u001b[0m\u001b[0;34m.\u001b[0m\u001b[0mnlevels\u001b[0m \u001b[0;34m>\u001b[0m \u001b[0;36m1\u001b[0m\u001b[0;34m:\u001b[0m\u001b[0;34m\u001b[0m\u001b[0;34m\u001b[0m\u001b[0m\n\u001b[1;32m   2926\u001b[0m                 \u001b[0;32mreturn\u001b[0m \u001b[0mself\u001b[0m\u001b[0;34m.\u001b[0m\u001b[0m_getitem_multilevel\u001b[0m\u001b[0;34m(\u001b[0m\u001b[0mkey\u001b[0m\u001b[0;34m)\u001b[0m\u001b[0;34m\u001b[0m\u001b[0;34m\u001b[0m\u001b[0m\n\u001b[0;32m-> 2927\u001b[0;31m             \u001b[0mindexer\u001b[0m \u001b[0;34m=\u001b[0m \u001b[0mself\u001b[0m\u001b[0;34m.\u001b[0m\u001b[0mcolumns\u001b[0m\u001b[0;34m.\u001b[0m\u001b[0mget_loc\u001b[0m\u001b[0;34m(\u001b[0m\u001b[0mkey\u001b[0m\u001b[0;34m)\u001b[0m\u001b[0;34m\u001b[0m\u001b[0;34m\u001b[0m\u001b[0m\n\u001b[0m\u001b[1;32m   2928\u001b[0m             \u001b[0;32mif\u001b[0m \u001b[0mis_integer\u001b[0m\u001b[0;34m(\u001b[0m\u001b[0mindexer\u001b[0m\u001b[0;34m)\u001b[0m\u001b[0;34m:\u001b[0m\u001b[0;34m\u001b[0m\u001b[0;34m\u001b[0m\u001b[0m\n\u001b[1;32m   2929\u001b[0m                 \u001b[0mindexer\u001b[0m \u001b[0;34m=\u001b[0m \u001b[0;34m[\u001b[0m\u001b[0mindexer\u001b[0m\u001b[0;34m]\u001b[0m\u001b[0;34m\u001b[0m\u001b[0;34m\u001b[0m\u001b[0m\n",
      "\u001b[0;32m~/anaconda3/lib/python3.7/site-packages/pandas/core/indexes/base.py\u001b[0m in \u001b[0;36mget_loc\u001b[0;34m(self, key, method, tolerance)\u001b[0m\n\u001b[1;32m   2656\u001b[0m                 \u001b[0;32mreturn\u001b[0m \u001b[0mself\u001b[0m\u001b[0;34m.\u001b[0m\u001b[0m_engine\u001b[0m\u001b[0;34m.\u001b[0m\u001b[0mget_loc\u001b[0m\u001b[0;34m(\u001b[0m\u001b[0mkey\u001b[0m\u001b[0;34m)\u001b[0m\u001b[0;34m\u001b[0m\u001b[0;34m\u001b[0m\u001b[0m\n\u001b[1;32m   2657\u001b[0m             \u001b[0;32mexcept\u001b[0m \u001b[0mKeyError\u001b[0m\u001b[0;34m:\u001b[0m\u001b[0;34m\u001b[0m\u001b[0;34m\u001b[0m\u001b[0m\n\u001b[0;32m-> 2658\u001b[0;31m                 \u001b[0;32mreturn\u001b[0m \u001b[0mself\u001b[0m\u001b[0;34m.\u001b[0m\u001b[0m_engine\u001b[0m\u001b[0;34m.\u001b[0m\u001b[0mget_loc\u001b[0m\u001b[0;34m(\u001b[0m\u001b[0mself\u001b[0m\u001b[0;34m.\u001b[0m\u001b[0m_maybe_cast_indexer\u001b[0m\u001b[0;34m(\u001b[0m\u001b[0mkey\u001b[0m\u001b[0;34m)\u001b[0m\u001b[0;34m)\u001b[0m\u001b[0;34m\u001b[0m\u001b[0;34m\u001b[0m\u001b[0m\n\u001b[0m\u001b[1;32m   2659\u001b[0m         \u001b[0mindexer\u001b[0m \u001b[0;34m=\u001b[0m \u001b[0mself\u001b[0m\u001b[0;34m.\u001b[0m\u001b[0mget_indexer\u001b[0m\u001b[0;34m(\u001b[0m\u001b[0;34m[\u001b[0m\u001b[0mkey\u001b[0m\u001b[0;34m]\u001b[0m\u001b[0;34m,\u001b[0m \u001b[0mmethod\u001b[0m\u001b[0;34m=\u001b[0m\u001b[0mmethod\u001b[0m\u001b[0;34m,\u001b[0m \u001b[0mtolerance\u001b[0m\u001b[0;34m=\u001b[0m\u001b[0mtolerance\u001b[0m\u001b[0;34m)\u001b[0m\u001b[0;34m\u001b[0m\u001b[0;34m\u001b[0m\u001b[0m\n\u001b[1;32m   2660\u001b[0m         \u001b[0;32mif\u001b[0m \u001b[0mindexer\u001b[0m\u001b[0;34m.\u001b[0m\u001b[0mndim\u001b[0m \u001b[0;34m>\u001b[0m \u001b[0;36m1\u001b[0m \u001b[0;32mor\u001b[0m \u001b[0mindexer\u001b[0m\u001b[0;34m.\u001b[0m\u001b[0msize\u001b[0m \u001b[0;34m>\u001b[0m \u001b[0;36m1\u001b[0m\u001b[0;34m:\u001b[0m\u001b[0;34m\u001b[0m\u001b[0;34m\u001b[0m\u001b[0m\n",
      "\u001b[0;32mpandas/_libs/index.pyx\u001b[0m in \u001b[0;36mpandas._libs.index.IndexEngine.get_loc\u001b[0;34m()\u001b[0m\n",
      "\u001b[0;32mpandas/_libs/index.pyx\u001b[0m in \u001b[0;36mpandas._libs.index.IndexEngine.get_loc\u001b[0;34m()\u001b[0m\n",
      "\u001b[0;32mpandas/_libs/hashtable_class_helper.pxi\u001b[0m in \u001b[0;36mpandas._libs.hashtable.PyObjectHashTable.get_item\u001b[0;34m()\u001b[0m\n",
      "\u001b[0;32mpandas/_libs/hashtable_class_helper.pxi\u001b[0m in \u001b[0;36mpandas._libs.hashtable.PyObjectHashTable.get_item\u001b[0;34m()\u001b[0m\n",
      "\u001b[0;31mKeyError\u001b[0m: 'time'"
     ]
    }
   ],
   "source": [
    "orders = orders.set_index(pd.to_datetime(orders['time'], format=\"%Y-%m-%dT%H:%M:%SZ\"))"
   ]
  },
  {
   "cell_type": "markdown",
   "metadata": {},
   "source": [
    "### A bit of cleaning"
   ]
  },
  {
   "cell_type": "code",
   "execution_count": null,
   "metadata": {},
   "outputs": [],
   "source": [
    "ordersNewColumns = []\n",
    "for column in orders.columns:\n",
    "    ordersNewColumns.append(column+'_orders')"
   ]
  },
  {
   "cell_type": "code",
   "execution_count": null,
   "metadata": {},
   "outputs": [],
   "source": [
    "orders.columns = ordersNewColumns"
   ]
  },
  {
   "cell_type": "code",
   "execution_count": null,
   "metadata": {},
   "outputs": [],
   "source": [
    "positions = positions.set_index(pd.to_datetime(positions['time'], format=\"%Y-%m-%dT%H:%M:%SZ\"))"
   ]
  },
  {
   "cell_type": "code",
   "execution_count": null,
   "metadata": {},
   "outputs": [],
   "source": [
    "positionsNewColumns = []\n",
    "for column in positions.columns:\n",
    "    positionsNewColumns.append(column+'_positions')"
   ]
  },
  {
   "cell_type": "code",
   "execution_count": null,
   "metadata": {},
   "outputs": [],
   "source": [
    "positions.columns = positionsNewColumns"
   ]
  },
  {
   "cell_type": "code",
   "execution_count": 169,
   "metadata": {
    "scrolled": true
   },
   "outputs": [],
   "source": [
    "#base = merged.join(orders).join(positions)\\\n",
    "#    .dropna()\\\n",
    "#    .drop(['Unnamed: 0_orders', 'Unnamed: 0_positions', 'price_orders',\n",
    "#          'roundedPrice_orders', 'price_positions', 'roundedPrice_positions',\n",
    "#          'time_orders', 'time_positions'], axis = 1)\\\n",
    "base = merged[merged.index.minute.isin([0,20,40])]"
   ]
  },
  {
   "cell_type": "code",
   "execution_count": 170,
   "metadata": {},
   "outputs": [
    {
     "data": {
      "text/html": [
       "<div>\n",
       "<style scoped>\n",
       "    .dataframe tbody tr th:only-of-type {\n",
       "        vertical-align: middle;\n",
       "    }\n",
       "\n",
       "    .dataframe tbody tr th {\n",
       "        vertical-align: top;\n",
       "    }\n",
       "\n",
       "    .dataframe thead th {\n",
       "        text-align: right;\n",
       "    }\n",
       "</style>\n",
       "<table border=\"1\" class=\"dataframe\">\n",
       "  <thead>\n",
       "    <tr style=\"text-align: right;\">\n",
       "      <th></th>\n",
       "      <th>open</th>\n",
       "      <th>high</th>\n",
       "      <th>low</th>\n",
       "      <th>close</th>\n",
       "      <th>vol</th>\n",
       "      <th>impact</th>\n",
       "    </tr>\n",
       "    <tr>\n",
       "      <th>time</th>\n",
       "      <th></th>\n",
       "      <th></th>\n",
       "      <th></th>\n",
       "      <th></th>\n",
       "      <th></th>\n",
       "      <th></th>\n",
       "    </tr>\n",
       "  </thead>\n",
       "  <tbody>\n",
       "    <tr>\n",
       "      <th>2019-01-09 22:00:00</th>\n",
       "      <td>1.27908</td>\n",
       "      <td>1.27927</td>\n",
       "      <td>1.27898</td>\n",
       "      <td>1.27926</td>\n",
       "      <td>8.0</td>\n",
       "      <td>0.0</td>\n",
       "    </tr>\n",
       "  </tbody>\n",
       "</table>\n",
       "</div>"
      ],
      "text/plain": [
       "                        open     high      low    close  vol  impact\n",
       "time                                                                \n",
       "2019-01-09 22:00:00  1.27908  1.27927  1.27898  1.27926  8.0     0.0"
      ]
     },
     "execution_count": 170,
     "metadata": {},
     "output_type": "execute_result"
    }
   ],
   "source": [
    "base.head(1)"
   ]
  },
  {
   "cell_type": "code",
   "execution_count": 171,
   "metadata": {},
   "outputs": [
    {
     "data": {
      "text/plain": [
       "63.55555555555556"
      ]
     },
     "execution_count": 171,
     "metadata": {},
     "output_type": "execute_result"
    }
   ],
   "source": [
    "len(base)/72 # more less number of days"
   ]
  },
  {
   "cell_type": "code",
   "execution_count": 172,
   "metadata": {},
   "outputs": [
    {
     "name": "stderr",
     "output_type": "stream",
     "text": [
      "/home/jacek/anaconda3/lib/python3.7/site-packages/ipykernel_launcher.py:1: SettingWithCopyWarning: \n",
      "A value is trying to be set on a copy of a slice from a DataFrame.\n",
      "Try using .loc[row_indexer,col_indexer] = value instead\n",
      "\n",
      "See the caveats in the documentation: http://pandas.pydata.org/pandas-docs/stable/indexing.html#indexing-view-versus-copy\n",
      "  \"\"\"Entry point for launching an IPython kernel.\n",
      "/home/jacek/anaconda3/lib/python3.7/site-packages/ipykernel_launcher.py:2: SettingWithCopyWarning: \n",
      "A value is trying to be set on a copy of a slice from a DataFrame.\n",
      "Try using .loc[row_indexer,col_indexer] = value instead\n",
      "\n",
      "See the caveats in the documentation: http://pandas.pydata.org/pandas-docs/stable/indexing.html#indexing-view-versus-copy\n",
      "  \n"
     ]
    }
   ],
   "source": [
    "base['ma5'] = base['close'].rolling(5).mean()\n",
    "base['ma10'] = base['close'].rolling(10).mean()\n",
    "base = base.dropna()"
   ]
  },
  {
   "cell_type": "markdown",
   "metadata": {},
   "source": [
    "## Prepare additional parameters"
   ]
  },
  {
   "cell_type": "code",
   "execution_count": 174,
   "metadata": {},
   "outputs": [],
   "source": [
    "averageMultiplayer = 1.3\n",
    "bottomBarrierPips = 0.0040\n",
    "endingHour = 12\n",
    "openingInterval = 1\n",
    "slPips = 0.0015\n",
    "startingHour = 8\n",
    "tpMultiplier = 1.4\n",
    "\n",
    "tradeUnits = 100\n",
    "instrument = 'EUR_USD'\n",
    "\n",
    "if instrument == 'EUR_USD':\n",
    "    spreadPips = 0.0001\n",
    "elif instrument == 'GBP_USD':\n",
    "    spreadPips = 0.0002\n",
    "else:\n",
    "    spreadPips = 0.0003"
   ]
  },
  {
   "cell_type": "markdown",
   "metadata": {},
   "source": [
    "## Test many parameters for this strategy"
   ]
  },
  {
   "cell_type": "code",
   "execution_count": 181,
   "metadata": {},
   "outputs": [],
   "source": [
    "df_list = []\n",
    "\n",
    "for date in sorted(set(base.index.date)):\n",
    "    for startingHour in [14,15]:\n",
    "        for openingInterval in [1]:\n",
    "            for bottomBarrierPips in [0.0060, 0.0050, 0.0040]:\n",
    "                # TO BE DONE - prepare data with order book\n",
    "                \n",
    "                openTradesDF = base[\n",
    "                    (\n",
    "                        base.index.date == date\n",
    "                    ) &\n",
    "                    (\n",
    "                        (\n",
    "                            (base.index.hour >= startingHour) &\n",
    "                            (base.index.hour < startingHour + openingInterval) &\n",
    "                            (base.index.minute != 0)\n",
    "                        ) |\n",
    "                        (\n",
    "                            (base.index.hour == startingHour + openingInterval) &\n",
    "                            (base.index.minute == 0)\n",
    "                        )\n",
    "                    )\n",
    "                ]\n",
    "                \n",
    "                firstCandle = base[\n",
    "                    (base.index.date == date) &\n",
    "                    (base.index.hour >= startingHour) &\n",
    "                    (base.index.hour < startingHour + openingInterval) &\n",
    "                    (base.index.minute == 0)\n",
    "                ]\n",
    "                \n",
    "                if len(openTradesDF) == 3 * openingInterval and\\\n",
    "                    len(openTradesDF[openTradesDF['impact'] == 1]) == 0:\n",
    "                    openTradePrices = []\n",
    "                    basePrice = firstCandle.iloc[0]['open']\n",
    "                    bottomBarrier = basePrice - bottomBarrierPips\n",
    "                    \n",
    "                    for i in range(len(openTradesDF)):\n",
    "                        price = openTradesDF.iloc[i]['open']\n",
    "                        \n",
    "                        if openTradePrices == []:\n",
    "                            if\\\n",
    "                                openTradesDF.iloc[i]['ma5'] < openTradesDF.iloc[i]['ma10'] and\\\n",
    "                                price > bottomBarrier and\\\n",
    "                                price < basePrice:\n",
    "                                \n",
    "                                openTradePrices.append(price)\n",
    "                        else:\n",
    "                            if\\\n",
    "                                openTradesDF.iloc[i]['ma5'] < openTradesDF.iloc[i]['ma10'] and\\\n",
    "                                price > bottomBarrier and\\\n",
    "                                price < basePrice and\\\n",
    "                                price < min(openTradePrices):\n",
    "                                \n",
    "                                openTradePrices.append(price)\n",
    "                                \n",
    "                    if openTradePrices != []:\n",
    "                        for averageMultiplayer in [1.20, 1.30, 1.4, 1.5]: #\n",
    "                            \n",
    "                            weightedPrices = []\n",
    "                            weights = []\n",
    "                            for i, price in enumerate(openTradePrices):\n",
    "                                if i == 0:\n",
    "                                    weightedPrices.append(price)\n",
    "                                    weights.append(1)\n",
    "                                else:\n",
    "                                    weightedPrices.append(price * averageMultiplayer * i)\n",
    "                                    weights.append(averageMultiplayer * i)\n",
    "                            averageOpenPrice = sum(weightedPrices) / sum(weights)\n",
    "                            numberOfTrades = len(openTradePrices)\n",
    "                            \n",
    "                        for slPips in [0.0010, 0.0015, 0.0020]:\n",
    "                            for tpMultiplier in [1.3, 1.4, 1.5,1.6]:\n",
    "                                for endingHour in [18,19,20]:\n",
    "                                    for moveSlPips in [0.0000, 0.0005, 0.0010, 0.0015]:\n",
    "                                    \n",
    "                                        checkTradesDF = base[\n",
    "                                            (base.index.date == date) &\n",
    "                                            (base.index.hour >= startingHour + openingInterval) &\n",
    "                                            (base.index.hour <= endingHour)\n",
    "                                        ].iloc[:-2]\n",
    "\n",
    "                                        if len(checkTradesDF[checkTradesDF['impact'] == 1]) == 0:\n",
    "\n",
    "                                            # edge case: one trade which is very low is under sl lvl\n",
    "                                            slPrice = averageOpenPrice - slPips\n",
    "                                            tpPrice = averageOpenPrice + (slPips * tpMultiplier)\n",
    "                                            resultPips = 0.0\n",
    "\n",
    "                                            if checkTradesDF.iloc[0]['open'] < bottomBarrier:\n",
    "                                                resultPips = (bottomBarrier - averageOpenPrice)\\\n",
    "                                                                * numberOfTrades\n",
    "                                            if checkTradesDF.iloc[0]['open'] < slPrice:\n",
    "                                                resultPips = (slPrice - averageOpenPrice)\\\n",
    "                                                                * numberOfTrades\n",
    "                                            else:\n",
    "                                                closeTradeFlag = False\n",
    "                                                middleHour = round((endingHour - startingHour) / 2, 0)\n",
    "                                                \n",
    "                                                for candle in checkTradesDF\\\n",
    "                                                    .iloc[1:][['high', 'low', 'open']]\\\n",
    "                                                    .reset_index()\\\n",
    "                                                    .to_dict('rows'):\n",
    "\n",
    "                                                    if candle['time'].hour == middleHour and\\\n",
    "                                                        candle['time'].minute == 20:\n",
    "                                                        if updatedSlPips < slPips:\n",
    "                                                            testNewSlPrice = slPrice + moveSlPips\n",
    "                                                            if testNewSlPrice + 0.0005 < candle['open']:\n",
    "                                                                slPrice = testNewSlPrice\n",
    "\n",
    "                                                    if candle['low'] < slPrice:\n",
    "                                                        resultPips = (slPrice - averageOpenPrice)\\\n",
    "                                                                * numberOfTrades\n",
    "                                                        closeTradeFlag = True\n",
    "                                                        break\n",
    "                                                    if candle['high'] > tpPrice:\n",
    "                                                        resultPips = (tpPrice - averageOpenPrice)\\\n",
    "                                                                * numberOfTrades\n",
    "                                                        closeTradeFlag = True\n",
    "                                                        break\n",
    "\n",
    "                                            if closeTradeFlag == False:\n",
    "                                                resultPips = (checkTradesDF.iloc[-1]['open'] - averageOpenPrice - spreadPips)\\\n",
    "                                                                * numberOfTrades\n",
    "\n",
    "\n",
    "\n",
    "                                            row = {\n",
    "                                                'date': date,\n",
    "                                                'startingHour': startingHour,\n",
    "                                                'openingInterval': openingInterval,\n",
    "                                                'bottomBarrierPips': bottomBarrierPips,\n",
    "                                                'averageMultiplayer': averageMultiplayer,\n",
    "                                                'slPips': slPips,\n",
    "                                                'tpMultiplier': tpMultiplier,\n",
    "                                                'endingHour': endingHour,\n",
    "                                                'resultPips': resultPips,\n",
    "                                                'moveSlPips': moveSlPips,\n",
    "                                            }\n",
    "\n",
    "                                            df_list.append(row)"
   ]
  },
  {
   "cell_type": "code",
   "execution_count": 182,
   "metadata": {},
   "outputs": [],
   "source": [
    "scores = pd.DataFrame(df_list)"
   ]
  },
  {
   "cell_type": "code",
   "execution_count": 183,
   "metadata": {},
   "outputs": [],
   "source": [
    "grouped = scores.groupby([\n",
    "    'averageMultiplayer',\n",
    "    'bottomBarrierPips',\n",
    "    'endingHour',\n",
    "    'openingInterval',\n",
    "    'slPips',\n",
    "    'startingHour',\n",
    "    'tpMultiplier',\n",
    "    'moveSlPips',\n",
    "]).agg({'resultPips': 'sum', 'date': 'count'})\\\n",
    "    .sort_values([\n",
    "    'resultPips', \n",
    "    'moveSlPips',\n",
    "    'bottomBarrierPips'\n",
    "], ascending=[\n",
    "    False,\n",
    "    False,\n",
    "    True\n",
    "])\\"
   ]
  },
  {
   "cell_type": "markdown",
   "metadata": {},
   "source": [
    "### Show the best strategies"
   ]
  },
  {
   "cell_type": "code",
   "execution_count": 184,
   "metadata": {},
   "outputs": [
    {
     "data": {
      "text/html": [
       "<div>\n",
       "<style scoped>\n",
       "    .dataframe tbody tr th:only-of-type {\n",
       "        vertical-align: middle;\n",
       "    }\n",
       "\n",
       "    .dataframe tbody tr th {\n",
       "        vertical-align: top;\n",
       "    }\n",
       "\n",
       "    .dataframe thead th {\n",
       "        text-align: right;\n",
       "    }\n",
       "</style>\n",
       "<table border=\"1\" class=\"dataframe\">\n",
       "  <thead>\n",
       "    <tr style=\"text-align: right;\">\n",
       "      <th></th>\n",
       "      <th></th>\n",
       "      <th></th>\n",
       "      <th></th>\n",
       "      <th></th>\n",
       "      <th></th>\n",
       "      <th></th>\n",
       "      <th></th>\n",
       "      <th>resultPips</th>\n",
       "      <th>date</th>\n",
       "    </tr>\n",
       "    <tr>\n",
       "      <th>averageMultiplayer</th>\n",
       "      <th>bottomBarrierPips</th>\n",
       "      <th>endingHour</th>\n",
       "      <th>openingInterval</th>\n",
       "      <th>slPips</th>\n",
       "      <th>startingHour</th>\n",
       "      <th>tpMultiplier</th>\n",
       "      <th>moveSlPips</th>\n",
       "      <th></th>\n",
       "      <th></th>\n",
       "    </tr>\n",
       "  </thead>\n",
       "  <tbody>\n",
       "    <tr>\n",
       "      <th rowspan=\"10\" valign=\"top\">1.5</th>\n",
       "      <th rowspan=\"4\" valign=\"top\">0.004</th>\n",
       "      <th rowspan=\"4\" valign=\"top\">19</th>\n",
       "      <th rowspan=\"4\" valign=\"top\">1</th>\n",
       "      <th rowspan=\"4\" valign=\"top\">0.002</th>\n",
       "      <th rowspan=\"4\" valign=\"top\">14</th>\n",
       "      <th rowspan=\"4\" valign=\"top\">1.6</th>\n",
       "      <th>0.0015</th>\n",
       "      <td>0.03437</td>\n",
       "      <td>33</td>\n",
       "    </tr>\n",
       "    <tr>\n",
       "      <th>0.0010</th>\n",
       "      <td>0.03437</td>\n",
       "      <td>33</td>\n",
       "    </tr>\n",
       "    <tr>\n",
       "      <th>0.0005</th>\n",
       "      <td>0.03437</td>\n",
       "      <td>33</td>\n",
       "    </tr>\n",
       "    <tr>\n",
       "      <th>0.0000</th>\n",
       "      <td>0.03437</td>\n",
       "      <td>33</td>\n",
       "    </tr>\n",
       "    <tr>\n",
       "      <th>0.005</th>\n",
       "      <th>19</th>\n",
       "      <th>1</th>\n",
       "      <th>0.002</th>\n",
       "      <th>14</th>\n",
       "      <th>1.6</th>\n",
       "      <th>0.0015</th>\n",
       "      <td>0.03237</td>\n",
       "      <td>33</td>\n",
       "    </tr>\n",
       "    <tr>\n",
       "      <th>0.006</th>\n",
       "      <th>19</th>\n",
       "      <th>1</th>\n",
       "      <th>0.002</th>\n",
       "      <th>14</th>\n",
       "      <th>1.6</th>\n",
       "      <th>0.0015</th>\n",
       "      <td>0.03237</td>\n",
       "      <td>33</td>\n",
       "    </tr>\n",
       "    <tr>\n",
       "      <th>0.005</th>\n",
       "      <th>19</th>\n",
       "      <th>1</th>\n",
       "      <th>0.002</th>\n",
       "      <th>14</th>\n",
       "      <th>1.6</th>\n",
       "      <th>0.0010</th>\n",
       "      <td>0.03237</td>\n",
       "      <td>33</td>\n",
       "    </tr>\n",
       "    <tr>\n",
       "      <th>0.006</th>\n",
       "      <th>19</th>\n",
       "      <th>1</th>\n",
       "      <th>0.002</th>\n",
       "      <th>14</th>\n",
       "      <th>1.6</th>\n",
       "      <th>0.0010</th>\n",
       "      <td>0.03237</td>\n",
       "      <td>33</td>\n",
       "    </tr>\n",
       "    <tr>\n",
       "      <th>0.005</th>\n",
       "      <th>19</th>\n",
       "      <th>1</th>\n",
       "      <th>0.002</th>\n",
       "      <th>14</th>\n",
       "      <th>1.6</th>\n",
       "      <th>0.0005</th>\n",
       "      <td>0.03237</td>\n",
       "      <td>33</td>\n",
       "    </tr>\n",
       "    <tr>\n",
       "      <th>0.006</th>\n",
       "      <th>19</th>\n",
       "      <th>1</th>\n",
       "      <th>0.002</th>\n",
       "      <th>14</th>\n",
       "      <th>1.6</th>\n",
       "      <th>0.0005</th>\n",
       "      <td>0.03237</td>\n",
       "      <td>33</td>\n",
       "    </tr>\n",
       "  </tbody>\n",
       "</table>\n",
       "</div>"
      ],
      "text/plain": [
       "                                                                                                             resultPips  \\\n",
       "averageMultiplayer bottomBarrierPips endingHour openingInterval slPips startingHour tpMultiplier moveSlPips               \n",
       "1.5                0.004             19         1               0.002  14           1.6          0.0015         0.03437   \n",
       "                                                                                                 0.0010         0.03437   \n",
       "                                                                                                 0.0005         0.03437   \n",
       "                                                                                                 0.0000         0.03437   \n",
       "                   0.005             19         1               0.002  14           1.6          0.0015         0.03237   \n",
       "                   0.006             19         1               0.002  14           1.6          0.0015         0.03237   \n",
       "                   0.005             19         1               0.002  14           1.6          0.0010         0.03237   \n",
       "                   0.006             19         1               0.002  14           1.6          0.0010         0.03237   \n",
       "                   0.005             19         1               0.002  14           1.6          0.0005         0.03237   \n",
       "                   0.006             19         1               0.002  14           1.6          0.0005         0.03237   \n",
       "\n",
       "                                                                                                             date  \n",
       "averageMultiplayer bottomBarrierPips endingHour openingInterval slPips startingHour tpMultiplier moveSlPips        \n",
       "1.5                0.004             19         1               0.002  14           1.6          0.0015        33  \n",
       "                                                                                                 0.0010        33  \n",
       "                                                                                                 0.0005        33  \n",
       "                                                                                                 0.0000        33  \n",
       "                   0.005             19         1               0.002  14           1.6          0.0015        33  \n",
       "                   0.006             19         1               0.002  14           1.6          0.0015        33  \n",
       "                   0.005             19         1               0.002  14           1.6          0.0010        33  \n",
       "                   0.006             19         1               0.002  14           1.6          0.0010        33  \n",
       "                   0.005             19         1               0.002  14           1.6          0.0005        33  \n",
       "                   0.006             19         1               0.002  14           1.6          0.0005        33  "
      ]
     },
     "execution_count": 184,
     "metadata": {},
     "output_type": "execute_result"
    }
   ],
   "source": [
    "grouped.head(10)"
   ]
  },
  {
   "cell_type": "markdown",
   "metadata": {},
   "source": [
    "### Calculate percent of good strategies"
   ]
  },
  {
   "cell_type": "code",
   "execution_count": 185,
   "metadata": {},
   "outputs": [
    {
     "data": {
      "text/plain": [
       "76.85185185185185"
      ]
     },
     "execution_count": 185,
     "metadata": {},
     "output_type": "execute_result"
    }
   ],
   "source": [
    "# percentage of 'good' strategies\n",
    "len(grouped[grouped['resultPips'] > 0])/len(grouped)*100"
   ]
  },
  {
   "cell_type": "code",
   "execution_count": 186,
   "metadata": {},
   "outputs": [],
   "source": [
    "grouped.to_csv('Simple_afternoon_eur_usd.csv')"
   ]
  },
  {
   "cell_type": "markdown",
   "metadata": {},
   "source": [
    "## Take a closer look at order book data"
   ]
  },
  {
   "cell_type": "code",
   "execution_count": 34,
   "metadata": {},
   "outputs": [
    {
     "data": {
      "text/plain": [
       "Index(['averageMultiplayer', 'bottomBarrierPips', 'endingHour',\n",
       "       'openingInterval', 'slPips', 'startingHour', 'tpMultiplier',\n",
       "       'moveSlPips'],\n",
       "      dtype='object')"
      ]
     },
     "execution_count": 34,
     "metadata": {},
     "output_type": "execute_result"
    }
   ],
   "source": [
    "grouped.reset_index().drop(['resultPips', 'date'], axis=1).columns"
   ]
  },
  {
   "cell_type": "code",
   "execution_count": 35,
   "metadata": {},
   "outputs": [
    {
     "data": {
      "text/html": [
       "<div>\n",
       "<style scoped>\n",
       "    .dataframe tbody tr th:only-of-type {\n",
       "        vertical-align: middle;\n",
       "    }\n",
       "\n",
       "    .dataframe tbody tr th {\n",
       "        vertical-align: top;\n",
       "    }\n",
       "\n",
       "    .dataframe thead th {\n",
       "        text-align: right;\n",
       "    }\n",
       "</style>\n",
       "<table border=\"1\" class=\"dataframe\">\n",
       "  <thead>\n",
       "    <tr style=\"text-align: right;\">\n",
       "      <th></th>\n",
       "      <th>averageMultiplayer</th>\n",
       "      <th>bottomBarrierPips</th>\n",
       "      <th>date</th>\n",
       "      <th>endingHour</th>\n",
       "      <th>moveSlPips</th>\n",
       "      <th>openingInterval</th>\n",
       "      <th>resultPips</th>\n",
       "      <th>slPips</th>\n",
       "      <th>startingHour</th>\n",
       "      <th>tpMultiplier</th>\n",
       "    </tr>\n",
       "  </thead>\n",
       "  <tbody>\n",
       "    <tr>\n",
       "      <th>0</th>\n",
       "      <td>1.5</td>\n",
       "      <td>0.006</td>\n",
       "      <td>2019-01-10</td>\n",
       "      <td>11</td>\n",
       "      <td>0.0</td>\n",
       "      <td>1</td>\n",
       "      <td>-0.003</td>\n",
       "      <td>0.001</td>\n",
       "      <td>6</td>\n",
       "      <td>1.2</td>\n",
       "    </tr>\n",
       "  </tbody>\n",
       "</table>\n",
       "</div>"
      ],
      "text/plain": [
       "   averageMultiplayer  bottomBarrierPips        date  endingHour  moveSlPips  \\\n",
       "0                 1.5              0.006  2019-01-10          11         0.0   \n",
       "\n",
       "   openingInterval  resultPips  slPips  startingHour  tpMultiplier  \n",
       "0                1      -0.003   0.001             6           1.2  "
      ]
     },
     "execution_count": 35,
     "metadata": {},
     "output_type": "execute_result"
    }
   ],
   "source": [
    "scores.head(1)"
   ]
  },
  {
   "cell_type": "code",
   "execution_count": 36,
   "metadata": {},
   "outputs": [
    {
     "data": {
      "text/plain": [
       "(1.5, 0.006, 12, 1, 0.0015, 8, 1.4, 0.001)"
      ]
     },
     "execution_count": 36,
     "metadata": {},
     "output_type": "execute_result"
    }
   ],
   "source": [
    "grouped.iloc[0].name"
   ]
  },
  {
   "cell_type": "code",
   "execution_count": 37,
   "metadata": {},
   "outputs": [
    {
     "name": "stdout",
     "output_type": "stream",
     "text": [
      "(scores[\"averageMultiplayer\"] == 1.5) &\n",
      "(scores[\"bottomBarrierPips\"] == 0.006) &\n",
      "(scores[\"endingHour\"] == 12) &\n",
      "(scores[\"openingInterval\"] == 1) &\n",
      "(scores[\"slPips\"] == 0.0015) &\n",
      "(scores[\"startingHour\"] == 8) &\n",
      "(scores[\"tpMultiplier\"] == 1.4) &\n",
      "(scores[\"moveSlPips\"] == 0.001) &\n"
     ]
    }
   ],
   "source": [
    "columns = grouped.reset_index().drop(['resultPips', 'date'], axis=1).columns\n",
    "for i in range(len(columns)):\n",
    "    print('(scores[\"'+columns[i]+'\"] == '+str(grouped.iloc[0].name[i])+\") &\")"
   ]
  },
  {
   "cell_type": "code",
   "execution_count": 38,
   "metadata": {},
   "outputs": [],
   "source": [
    "bestResuts = scores[\n",
    "    (scores[\"averageMultiplayer\"] == 1.5) &\n",
    "    (scores[\"bottomBarrierPips\"] == 0.005) &\n",
    "    (scores[\"endingHour\"] == 12) &\n",
    "    (scores[\"openingInterval\"] == 1) &\n",
    "    (scores[\"slPips\"] == 0.0015) &\n",
    "    (scores[\"startingHour\"] == 8) &\n",
    "    (scores[\"tpMultiplier\"] == 1.3) &\n",
    "    (scores[\"moveSlPips\"] == 0.0015)\n",
    "][['date', 'resultPips']].sort_values('date')"
   ]
  },
  {
   "cell_type": "code",
   "execution_count": 39,
   "metadata": {},
   "outputs": [],
   "source": [
    "bestResuts.loc[\n",
    "    bestResuts['resultPips'] > 0\n",
    ", 'isWin'] = 1\n",
    "bestResuts = bestResuts.fillna(0)"
   ]
  },
  {
   "cell_type": "code",
   "execution_count": 40,
   "metadata": {},
   "outputs": [
    {
     "data": {
      "text/html": [
       "<div>\n",
       "<style scoped>\n",
       "    .dataframe tbody tr th:only-of-type {\n",
       "        vertical-align: middle;\n",
       "    }\n",
       "\n",
       "    .dataframe tbody tr th {\n",
       "        vertical-align: top;\n",
       "    }\n",
       "\n",
       "    .dataframe thead th {\n",
       "        text-align: right;\n",
       "    }\n",
       "</style>\n",
       "<table border=\"1\" class=\"dataframe\">\n",
       "  <thead>\n",
       "    <tr style=\"text-align: right;\">\n",
       "      <th></th>\n",
       "      <th>date</th>\n",
       "      <th>resultPips</th>\n",
       "      <th>isWin</th>\n",
       "    </tr>\n",
       "  </thead>\n",
       "  <tbody>\n",
       "    <tr>\n",
       "      <th>2719</th>\n",
       "      <td>2019-01-10</td>\n",
       "      <td>-0.00009</td>\n",
       "      <td>0.0</td>\n",
       "    </tr>\n",
       "    <tr>\n",
       "      <th>6175</th>\n",
       "      <td>2019-01-14</td>\n",
       "      <td>-0.00150</td>\n",
       "      <td>0.0</td>\n",
       "    </tr>\n",
       "    <tr>\n",
       "      <th>9631</th>\n",
       "      <td>2019-01-15</td>\n",
       "      <td>-0.00150</td>\n",
       "      <td>0.0</td>\n",
       "    </tr>\n",
       "    <tr>\n",
       "      <th>14239</th>\n",
       "      <td>2019-01-17</td>\n",
       "      <td>0.00195</td>\n",
       "      <td>1.0</td>\n",
       "    </tr>\n",
       "    <tr>\n",
       "      <th>18847</th>\n",
       "      <td>2019-01-23</td>\n",
       "      <td>0.00073</td>\n",
       "      <td>1.0</td>\n",
       "    </tr>\n",
       "  </tbody>\n",
       "</table>\n",
       "</div>"
      ],
      "text/plain": [
       "             date  resultPips  isWin\n",
       "2719   2019-01-10    -0.00009    0.0\n",
       "6175   2019-01-14    -0.00150    0.0\n",
       "9631   2019-01-15    -0.00150    0.0\n",
       "14239  2019-01-17     0.00195    1.0\n",
       "18847  2019-01-23     0.00073    1.0"
      ]
     },
     "execution_count": 40,
     "metadata": {},
     "output_type": "execute_result"
    }
   ],
   "source": [
    "bestResuts.head(5)"
   ]
  },
  {
   "cell_type": "markdown",
   "metadata": {},
   "source": [
    "#### Merge it with order book data, just to get the data for:\n",
    "- end of opening interval (q: maybe it is not a good idea to trade?)\n",
    "- middle hour (q: maybe people on the marked changed the mind?)"
   ]
  },
  {
   "cell_type": "code",
   "execution_count": 41,
   "metadata": {},
   "outputs": [],
   "source": [
    "base['date'] = base.index.date"
   ]
  },
  {
   "cell_type": "code",
   "execution_count": 42,
   "metadata": {},
   "outputs": [],
   "source": [
    "labelled = base.reset_index()\\\n",
    "    .merge(bestResuts, \n",
    "           right_on = 'date', \n",
    "           left_on = 'date', \n",
    "           how = 'inner')\\"
   ]
  },
  {
   "cell_type": "markdown",
   "metadata": {},
   "source": [
    "## Opening vs pre-opening period"
   ]
  },
  {
   "cell_type": "code",
   "execution_count": 76,
   "metadata": {},
   "outputs": [],
   "source": [
    "endOfOpening = labelled[\n",
    "    (\n",
    "        (labelled['time'].dt.hour == startingHour - 1) &\n",
    "        (labelled['time'].dt.minute != 0)\n",
    "    ) |\n",
    "    (\n",
    "        (labelled['time'].dt.hour == startingHour)\n",
    "    ) |\n",
    "    (\n",
    "        (labelled['time'].dt.hour == startingHour + openingInterval) &\n",
    "        (labelled['time'].dt.minute == 0)\n",
    "    )\n",
    "] # so now we have dataset only with hours 7 (pre) and 8 (open)"
   ]
  },
  {
   "cell_type": "code",
   "execution_count": 77,
   "metadata": {},
   "outputs": [
    {
     "name": "stderr",
     "output_type": "stream",
     "text": [
      "/home/jacek/anaconda3/lib/python3.7/site-packages/pandas/core/indexing.py:362: SettingWithCopyWarning: \n",
      "A value is trying to be set on a copy of a slice from a DataFrame.\n",
      "Try using .loc[row_indexer,col_indexer] = value instead\n",
      "\n",
      "See the caveats in the documentation: http://pandas.pydata.org/pandas-docs/stable/indexing.html#indexing-view-versus-copy\n",
      "  self.obj[key] = _infer_fill_value(value)\n",
      "/home/jacek/anaconda3/lib/python3.7/site-packages/pandas/core/indexing.py:543: SettingWithCopyWarning: \n",
      "A value is trying to be set on a copy of a slice from a DataFrame.\n",
      "Try using .loc[row_indexer,col_indexer] = value instead\n",
      "\n",
      "See the caveats in the documentation: http://pandas.pydata.org/pandas-docs/stable/indexing.html#indexing-view-versus-copy\n",
      "  self.obj[item] = s\n"
     ]
    }
   ],
   "source": [
    "endOfOpening.loc[\n",
    "    (\n",
    "        (endOfOpening['time'].dt.hour == startingHour - 1) &\n",
    "        (endOfOpening['time'].dt.minute != 0)\n",
    "    ) |\n",
    "    (\n",
    "        (endOfOpening['time'].dt.hour == startingHour) &\n",
    "        (endOfOpening['time'].dt.minute == 0)\n",
    "    )\n",
    ", 'period'] = 'pre_opening'\n",
    "\n",
    "endOfOpening.loc[\n",
    "    endOfOpening['period'].isna()\n",
    ", 'period'] = 'opening'"
   ]
  },
  {
   "cell_type": "markdown",
   "metadata": {},
   "source": [
    "### Difference betwen sum of vol"
   ]
  },
  {
   "cell_type": "code",
   "execution_count": 78,
   "metadata": {},
   "outputs": [],
   "source": [
    "tmpVol = endOfOpening[['period', 'date', 'vol']]\\\n",
    "    .groupby(['date', 'period'])\\\n",
    "    .sum()\\\n",
    "    .reset_index()\\\n",
    "    .pivot('date', 'period', 'vol')\\"
   ]
  },
  {
   "cell_type": "code",
   "execution_count": 79,
   "metadata": {},
   "outputs": [
    {
     "data": {
      "text/html": [
       "<div>\n",
       "<style scoped>\n",
       "    .dataframe tbody tr th:only-of-type {\n",
       "        vertical-align: middle;\n",
       "    }\n",
       "\n",
       "    .dataframe tbody tr th {\n",
       "        vertical-align: top;\n",
       "    }\n",
       "\n",
       "    .dataframe thead th {\n",
       "        text-align: right;\n",
       "    }\n",
       "</style>\n",
       "<table border=\"1\" class=\"dataframe\">\n",
       "  <thead>\n",
       "    <tr style=\"text-align: right;\">\n",
       "      <th>period</th>\n",
       "      <th>opening</th>\n",
       "      <th>pre_opening</th>\n",
       "    </tr>\n",
       "    <tr>\n",
       "      <th>date</th>\n",
       "      <th></th>\n",
       "      <th></th>\n",
       "    </tr>\n",
       "  </thead>\n",
       "  <tbody>\n",
       "    <tr>\n",
       "      <th>2019-01-10</th>\n",
       "      <td>504.0</td>\n",
       "      <td>548.0</td>\n",
       "    </tr>\n",
       "    <tr>\n",
       "      <th>2019-01-14</th>\n",
       "      <td>618.0</td>\n",
       "      <td>503.0</td>\n",
       "    </tr>\n",
       "    <tr>\n",
       "      <th>2019-01-15</th>\n",
       "      <td>458.0</td>\n",
       "      <td>409.0</td>\n",
       "    </tr>\n",
       "  </tbody>\n",
       "</table>\n",
       "</div>"
      ],
      "text/plain": [
       "period      opening  pre_opening\n",
       "date                            \n",
       "2019-01-10    504.0        548.0\n",
       "2019-01-14    618.0        503.0\n",
       "2019-01-15    458.0        409.0"
      ]
     },
     "execution_count": 79,
     "metadata": {},
     "output_type": "execute_result"
    }
   ],
   "source": [
    "tmpVol.head(3)"
   ]
  },
  {
   "cell_type": "code",
   "execution_count": 80,
   "metadata": {},
   "outputs": [],
   "source": [
    "tmpVol.loc[\n",
    "    tmpVol['opening'] > tmpVol['pre_opening']\n",
    ",'isOpeningHigherVolume'] = 1\n",
    "tmpVol = tmpVol.fillna(0)"
   ]
  },
  {
   "cell_type": "code",
   "execution_count": 81,
   "metadata": {},
   "outputs": [],
   "source": [
    "tmpVol['percDifference'] = (tmpVol['opening'] - tmpVol['pre_opening']) / tmpVol['pre_opening']"
   ]
  },
  {
   "cell_type": "code",
   "execution_count": 82,
   "metadata": {},
   "outputs": [
    {
     "data": {
      "text/plain": [
       "0.52"
      ]
     },
     "execution_count": 82,
     "metadata": {},
     "output_type": "execute_result"
    }
   ],
   "source": [
    "len(bestResuts[bestResuts['isWin'] == 1])/len(bestResuts)"
   ]
  },
  {
   "cell_type": "code",
   "execution_count": 83,
   "metadata": {},
   "outputs": [
    {
     "data": {
      "text/html": [
       "<div>\n",
       "<style scoped>\n",
       "    .dataframe tbody tr th:only-of-type {\n",
       "        vertical-align: middle;\n",
       "    }\n",
       "\n",
       "    .dataframe tbody tr th {\n",
       "        vertical-align: top;\n",
       "    }\n",
       "\n",
       "    .dataframe thead th {\n",
       "        text-align: right;\n",
       "    }\n",
       "</style>\n",
       "<table border=\"1\" class=\"dataframe\">\n",
       "  <thead>\n",
       "    <tr style=\"text-align: right;\">\n",
       "      <th></th>\n",
       "      <th>percDifference</th>\n",
       "      <th>resultPips</th>\n",
       "      <th>isWin</th>\n",
       "    </tr>\n",
       "  </thead>\n",
       "  <tbody>\n",
       "    <tr>\n",
       "      <th>percDifference</th>\n",
       "      <td>1.000000</td>\n",
       "      <td>-0.020269</td>\n",
       "      <td>-0.088682</td>\n",
       "    </tr>\n",
       "    <tr>\n",
       "      <th>resultPips</th>\n",
       "      <td>-0.020269</td>\n",
       "      <td>1.000000</td>\n",
       "      <td>0.872162</td>\n",
       "    </tr>\n",
       "    <tr>\n",
       "      <th>isWin</th>\n",
       "      <td>-0.088682</td>\n",
       "      <td>0.872162</td>\n",
       "      <td>1.000000</td>\n",
       "    </tr>\n",
       "  </tbody>\n",
       "</table>\n",
       "</div>"
      ],
      "text/plain": [
       "                percDifference  resultPips     isWin\n",
       "percDifference        1.000000   -0.020269 -0.088682\n",
       "resultPips           -0.020269    1.000000  0.872162\n",
       "isWin                -0.088682    0.872162  1.000000"
      ]
     },
     "execution_count": 83,
     "metadata": {},
     "output_type": "execute_result"
    }
   ],
   "source": [
    "tmpVol[['percDifference']]\\\n",
    "    .join(bestResuts.set_index('date'))\\\n",
    "    .corr()\n",
    "    # 'isOpeningHigherVolume'\n",
    "    #.groupby('isOpeningHigherVolume')\\\n",
    "    #.sum()"
   ]
  },
  {
   "cell_type": "markdown",
   "metadata": {},
   "source": [
    "## Orderbook data"
   ]
  },
  {
   "cell_type": "code",
   "execution_count": 87,
   "metadata": {},
   "outputs": [],
   "source": [
    "tmpOrderBook = endOfOpening"
   ]
  },
  {
   "cell_type": "code",
   "execution_count": 88,
   "metadata": {},
   "outputs": [
    {
     "name": "stderr",
     "output_type": "stream",
     "text": [
      "/home/jacek/anaconda3/lib/python3.7/site-packages/ipykernel_launcher.py:3: SettingWithCopyWarning: \n",
      "A value is trying to be set on a copy of a slice from a DataFrame.\n",
      "Try using .loc[row_indexer,col_indexer] = value instead\n",
      "\n",
      "See the caveats in the documentation: http://pandas.pydata.org/pandas-docs/stable/indexing.html#indexing-view-versus-copy\n",
      "  This is separate from the ipykernel package so we can avoid doing imports until\n",
      "/home/jacek/anaconda3/lib/python3.7/site-packages/ipykernel_launcher.py:4: SettingWithCopyWarning: \n",
      "A value is trying to be set on a copy of a slice from a DataFrame.\n",
      "Try using .loc[row_indexer,col_indexer] = value instead\n",
      "\n",
      "See the caveats in the documentation: http://pandas.pydata.org/pandas-docs/stable/indexing.html#indexing-view-versus-copy\n",
      "  after removing the cwd from sys.path.\n",
      "/home/jacek/anaconda3/lib/python3.7/site-packages/ipykernel_launcher.py:6: SettingWithCopyWarning: \n",
      "A value is trying to be set on a copy of a slice from a DataFrame.\n",
      "Try using .loc[row_indexer,col_indexer] = value instead\n",
      "\n",
      "See the caveats in the documentation: http://pandas.pydata.org/pandas-docs/stable/indexing.html#indexing-view-versus-copy\n",
      "  \n"
     ]
    }
   ],
   "source": [
    "# asks if there are more long positions at some market price\n",
    "for i in range(1, 6):\n",
    "    tmpOrderBook['hasLvl_'+str(i)+'_UpMoreLongs'] = tmpOrderBook['level_'+str(i)+'_up_l_orders'] > \\\n",
    "                                                tmpOrderBook['level_'+str(i)+'_up_s_orders']\n",
    "    tmpOrderBook['hasLvl_'+str(i)+'_DownMoreLongs'] = tmpOrderBook['level_'+str(i)+'_down_l_orders'] > \\\n",
    "                                                tmpOrderBook['level_'+str(i)+'_down_s_orders']\n",
    "    \n",
    "tmpOrderBook['hasLvl_0_MoreLongs'] = tmpOrderBook['level_0_l_orders'] > \\\n",
    "                                                tmpOrderBook['level_0_s_orders']"
   ]
  },
  {
   "cell_type": "code",
   "execution_count": 103,
   "metadata": {},
   "outputs": [
    {
     "data": {
      "text/html": [
       "<div>\n",
       "<style scoped>\n",
       "    .dataframe tbody tr th:only-of-type {\n",
       "        vertical-align: middle;\n",
       "    }\n",
       "\n",
       "    .dataframe tbody tr th {\n",
       "        vertical-align: top;\n",
       "    }\n",
       "\n",
       "    .dataframe thead th {\n",
       "        text-align: right;\n",
       "    }\n",
       "</style>\n",
       "<table border=\"1\" class=\"dataframe\">\n",
       "  <thead>\n",
       "    <tr style=\"text-align: right;\">\n",
       "      <th></th>\n",
       "      <th>opening</th>\n",
       "      <th>pre_opening</th>\n",
       "      <th>resultPips</th>\n",
       "      <th>isWin</th>\n",
       "    </tr>\n",
       "    <tr>\n",
       "      <th>date</th>\n",
       "      <th></th>\n",
       "      <th></th>\n",
       "      <th></th>\n",
       "      <th></th>\n",
       "    </tr>\n",
       "  </thead>\n",
       "  <tbody>\n",
       "    <tr>\n",
       "      <th>2019-01-10</th>\n",
       "      <td>3.0</td>\n",
       "      <td>3.0</td>\n",
       "      <td>-0.00009</td>\n",
       "      <td>0.0</td>\n",
       "    </tr>\n",
       "    <tr>\n",
       "      <th>2019-01-14</th>\n",
       "      <td>2.0</td>\n",
       "      <td>0.0</td>\n",
       "      <td>-0.00150</td>\n",
       "      <td>0.0</td>\n",
       "    </tr>\n",
       "    <tr>\n",
       "      <th>2019-01-15</th>\n",
       "      <td>0.0</td>\n",
       "      <td>1.0</td>\n",
       "      <td>-0.00150</td>\n",
       "      <td>0.0</td>\n",
       "    </tr>\n",
       "    <tr>\n",
       "      <th>2019-01-17</th>\n",
       "      <td>2.0</td>\n",
       "      <td>3.0</td>\n",
       "      <td>0.00195</td>\n",
       "      <td>1.0</td>\n",
       "    </tr>\n",
       "    <tr>\n",
       "      <th>2019-01-23</th>\n",
       "      <td>2.0</td>\n",
       "      <td>0.0</td>\n",
       "      <td>0.00073</td>\n",
       "      <td>1.0</td>\n",
       "    </tr>\n",
       "  </tbody>\n",
       "</table>\n",
       "</div>"
      ],
      "text/plain": [
       "            opening  pre_opening  resultPips  isWin\n",
       "date                                               \n",
       "2019-01-10      3.0          3.0    -0.00009    0.0\n",
       "2019-01-14      2.0          0.0    -0.00150    0.0\n",
       "2019-01-15      0.0          1.0    -0.00150    0.0\n",
       "2019-01-17      2.0          3.0     0.00195    1.0\n",
       "2019-01-23      2.0          0.0     0.00073    1.0"
      ]
     },
     "execution_count": 103,
     "metadata": {},
     "output_type": "execute_result"
    }
   ],
   "source": [
    "tmpOrderBook\\\n",
    "    [['date', 'period', 'hasLvl_0_MoreLongs']]\\\n",
    "    .groupby(['date', 'period'])\\\n",
    "    .sum()\\\n",
    "    .reset_index()\\\n",
    "    .pivot('date', 'period', 'hasLvl_0_MoreLongs')\\\n",
    "    .join(bestResuts.set_index('date'))\\\n",
    "    .head(5)\n",
    "# first date during pre_opening period had 3 candles, when there were more long orders\n",
    "# then sell orders, opening period had also 3 candles when there were more long orders."
   ]
  },
  {
   "cell_type": "markdown",
   "metadata": {},
   "source": [
    "#### Not enough data\n",
    "This mindset (orderbook) is much better for algorithms which will be trading every 20 minutes or hour, so there will be much more candles to make conclusions from"
   ]
  },
  {
   "cell_type": "code",
   "execution_count": null,
   "metadata": {},
   "outputs": [],
   "source": []
  },
  {
   "cell_type": "code",
   "execution_count": null,
   "metadata": {},
   "outputs": [],
   "source": []
  },
  {
   "cell_type": "code",
   "execution_count": null,
   "metadata": {},
   "outputs": [],
   "source": []
  }
 ],
 "metadata": {
  "kernelspec": {
   "display_name": "Python 3",
   "language": "python",
   "name": "python3"
  },
  "language_info": {
   "codemirror_mode": {
    "name": "ipython",
    "version": 3
   },
   "file_extension": ".py",
   "mimetype": "text/x-python",
   "name": "python",
   "nbconvert_exporter": "python",
   "pygments_lexer": "ipython3",
   "version": "3.7.2"
  }
 },
 "nbformat": 4,
 "nbformat_minor": 2
}
