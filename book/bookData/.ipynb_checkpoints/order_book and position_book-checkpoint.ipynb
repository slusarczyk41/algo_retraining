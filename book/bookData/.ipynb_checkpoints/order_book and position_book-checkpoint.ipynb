{
 "cells": [
  {
   "cell_type": "code",
   "execution_count": 4,
   "metadata": {
    "pycharm": {}
   },
   "outputs": [],
   "source": [
    "import requests\n",
    "from datetime import datetime, timedelta\n",
    "import pickle\n",
    "import pandas as pd\n",
    "import os"
   ]
  },
  {
   "cell_type": "code",
   "execution_count": null,
   "metadata": {},
   "outputs": [],
   "source": []
  },
  {
   "cell_type": "code",
   "execution_count": 20,
   "metadata": {
    "pycharm": {}
   },
   "outputs": [],
   "source": [
    "key = open(os.path.expanduser('~/.key'), 'r').read().splitlines()[0]\n",
    "typ = 'positionBook'\n",
    "startDate = '2019-02'+'-01T00:00:00Z'\n",
    "endDate = '2019-03'+'-01T00:00:00Z'"
   ]
  },
  {
   "cell_type": "code",
   "execution_count": null,
   "metadata": {},
   "outputs": [],
   "source": []
  },
  {
   "cell_type": "code",
   "execution_count": 35,
   "metadata": {
    "pycharm": {}
   },
   "outputs": [],
   "source": [
    "priceRange = None\n",
    "df_list = []\n",
    "currMonth = pd.to_datetime(startDate).month\n",
    "\n",
    "for i, response in enumerate(dataGenerator(typ, startDate, endDate)):\n",
    "    if typ in response.keys():\n",
    "        \n",
    "        if not priceRange:      \n",
    "            priceRange, zerosCounter, numberToRound = getInstrumentStats(response, typ)\n",
    "                    \n",
    "        row = processRecord(response, typ)\n",
    "        df_list.append(row)\n",
    "        \n",
    "        currTimestamp = pd.to_datetime(response[typ]['time'])\n",
    "        if currMonth != currTimestamp.month:\n",
    "            savingName = str(currTimestamp.year)+'-'+str(currTimestamp.month)\n",
    "            print('saving data for: '+savingName)\n",
    "            save_data(df_list, savingName)\n",
    "            df_list = []\n",
    "        \n",
    "    else:\n",
    "        print(response)"
   ]
  },
  {
   "cell_type": "code",
   "execution_count": 60,
   "metadata": {
    "pycharm": {}
   },
   "outputs": [],
   "source": [
    "def save_data(df_list, date):\n",
    "    df = pd.DataFrame(df_list, columns = [\n",
    "            'time',\n",
    "            'price',\n",
    "            'roundedPrice',\n",
    "            'level_0_l',\n",
    "            'level_0_s',\n",
    "            'level_1_up_l',\n",
    "            'level_1_up_s',\n",
    "            'level_1_down_l',\n",
    "            'level_1_down_s',\n",
    "            'level_2_up_l',\n",
    "            'level_2_up_s',\n",
    "            'level_2_down_l',\n",
    "            'level_2_down_s',\n",
    "            'level_3_up_l',\n",
    "            'level_3_up_s',\n",
    "            'level_3_down_l',\n",
    "            'level_3_down_s',\n",
    "            'level_4_up_l',\n",
    "            'level_4_up_s',\n",
    "            'level_4_down_l',\n",
    "            'level_4_down_s',\n",
    "            'level_5_up_l',\n",
    "            'level_5_up_s',\n",
    "            'level_5_down_l',\n",
    "            'level_5_down_s',\n",
    "        ])\n",
    "    df.to_csv(date+'.csv')"
   ]
  },
  {
   "cell_type": "code",
   "execution_count": 61,
   "metadata": {
    "pycharm": {}
   },
   "outputs": [],
   "source": []
  },
  {
   "cell_type": "code",
   "execution_count": null,
   "metadata": {},
   "outputs": [],
   "source": []
  },
  {
   "cell_type": "code",
   "execution_count": null,
   "metadata": {},
   "outputs": [],
   "source": []
  },
  {
   "cell_type": "code",
   "execution_count": null,
   "metadata": {},
   "outputs": [],
   "source": []
  },
  {
   "cell_type": "code",
   "execution_count": 7,
   "metadata": {
    "pycharm": {}
   },
   "outputs": [],
   "source": [
    "def dataGenerator(typ, start, end):\n",
    "    \n",
    "    reqNumber = (datetime.strptime(end, \"%Y-%m-%dT%H:%M:%SZ\") -\\\n",
    "    datetime.strptime(start, \"%Y-%m-%dT%H:%M:%SZ\")).total_seconds()/60/20\n",
    "\n",
    "    date = datetime.strptime(start, \"%Y-%m-%dT%H:%M:%SZ\").strftime(\"%Y-%m-%dT%H:%M:%SZ\")\n",
    "\n",
    "    for i in range(int(reqNumber)):\n",
    "        \n",
    "        \n",
    "        yield requests.get(\n",
    "                url = 'https://api-fxpractice.oanda.com/v3/instruments/EUR_USD/'+typ,\n",
    "                headers = {\n",
    "                    'Authorization' : 'Bearer ' + key,\n",
    "                },\n",
    "                data = {\n",
    "                    'time': date\n",
    "                }\n",
    "            ).json()\n",
    "\n",
    "        date = (datetime.strptime(date, \"%Y-%m-%dT%H:%M:%SZ\") + timedelta(minutes=20)).strftime(\"%Y-%m-%dT%H:%M:%SZ\")"
   ]
  },
  {
   "cell_type": "code",
   "execution_count": 8,
   "metadata": {
    "pycharm": {}
   },
   "outputs": [],
   "source": [
    "def processRecord(response, typ):\n",
    "    price = float(response[typ]['price'])\n",
    "            \n",
    "    estimatePrices = []\n",
    "    estimatePrices.append(float(str(round(price, zerosCounter))))\n",
    "    estimatePrices.append(round(round(price, zerosCounter) - float(numberToRound / (10 ** (zerosCounter + 1))), zerosCounter + 1))\n",
    "    estimatePrices.append(round(round(price, zerosCounter) + float(numberToRound / (10 ** (zerosCounter + 1))), zerosCounter + 1))\n",
    "\n",
    "    diff = 100\n",
    "    chosenMiddlePriceIndex = 0\n",
    "    for i, p in enumerate(estimatePrices):\n",
    "        if abs(price - p) < diff:\n",
    "            diff = abs(price - p)\n",
    "            chosenMiddlePriceIndex = i\n",
    "\n",
    "    middlePrice = estimatePrices[chosenMiddlePriceIndex]\n",
    "\n",
    "    tmpBuckets = {}\n",
    "    for bucket in response[typ]['buckets']:\n",
    "        tmpBuckets[float(bucket['price'])] = {\n",
    "            'l': bucket['longCountPercent'],\n",
    "            's': bucket['shortCountPercent'],\n",
    "        }\n",
    "    pricesKeys = list(tmpBuckets.keys())\n",
    "\n",
    "    row = [\n",
    "        response[typ]['time'],\n",
    "        response[typ]['price'],\n",
    "        middlePrice,\n",
    "    ]\n",
    "\n",
    "    if middlePrice in pricesKeys:\n",
    "        row.append(tmpBuckets[middlePrice]['l'])\n",
    "        row.append(tmpBuckets[middlePrice]['s'])\n",
    "    else:\n",
    "        row.append(0)\n",
    "        row.append(0)\n",
    "\n",
    "    UpPrice = middlePrice\n",
    "    DownPrice = middlePrice\n",
    "    floatedPriceBucket = float(priceRange)\n",
    "    for i in range(5):\n",
    "        UpPrice = UpPrice + floatedPriceBucket\n",
    "        if UpPrice in pricesKeys:\n",
    "            row.append(tmpBuckets[UpPrice]['l'])\n",
    "            row.append(tmpBuckets[UpPrice]['s'])\n",
    "        else:\n",
    "            row.append(0)\n",
    "            row.append(0)\n",
    "\n",
    "        DownPrice = DownPrice + floatedPriceBucket\n",
    "        if DownPrice in pricesKeys:\n",
    "            row.append(tmpBuckets[DownPrice]['l'])\n",
    "            row.append(tmpBuckets[DownPrice]['s'])\n",
    "        else:\n",
    "            row.append(0)\n",
    "            row.append(0)\n",
    "            \n",
    "    return row"
   ]
  },
  {
   "cell_type": "code",
   "execution_count": 9,
   "metadata": {
    "pycharm": {}
   },
   "outputs": [],
   "source": [
    "def getInstrumentStats(response, typ):\n",
    "    priceRange = response[typ]['bucketWidth']\n",
    "    numberToRound = len(str(response[typ]['bucketWidth']).split('.')[1])\n",
    "\n",
    "    zerosCounter = 0\n",
    "    for number in str(priceRange).split('.')[1]:\n",
    "        if number == '0':\n",
    "            zerosCounter = zerosCounter + 1\n",
    "        else:\n",
    "            break\n",
    "    \n",
    "    return priceRange, zerosCounter, numberToRound"
   ]
  },
  {
   "cell_type": "code",
   "execution_count": null,
   "metadata": {
    "pycharm": {}
   },
   "outputs": [],
   "source": []
  },
  {
   "cell_type": "code",
   "execution_count": null,
   "metadata": {
    "pycharm": {}
   },
   "outputs": [],
   "source": []
  }
 ],
 "metadata": {
  "kernelspec": {
   "display_name": "Python 3",
   "language": "python",
   "name": "python3"
  },
  "language_info": {
   "codemirror_mode": {
    "name": "ipython",
    "version": 3
   },
   "file_extension": ".py",
   "mimetype": "text/x-python",
   "name": "python",
   "nbconvert_exporter": "python",
   "pygments_lexer": "ipython3",
   "version": "3.7.2"
  }
 },
 "nbformat": 4,
 "nbformat_minor": 2
}
