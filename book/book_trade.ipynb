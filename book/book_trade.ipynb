{
 "cells": [
  {
   "cell_type": "code",
   "execution_count": 1,
   "metadata": {},
   "outputs": [],
   "source": [
    "import sys\n",
    "sys.path.append('../')"
   ]
  },
  {
   "cell_type": "code",
   "execution_count": 49,
   "metadata": {},
   "outputs": [],
   "source": [
    "from tools import stream, get_book, myAPI, cal\n",
    "from datetime import datetime as dt\n",
    "from time import sleep\n",
    "from pandas import to_datetime"
   ]
  },
  {
   "cell_type": "code",
   "execution_count": 3,
   "metadata": {},
   "outputs": [],
   "source": [
    "import oandapyV20.endpoints.orders as orders_endpoint\n",
    "import oandapyV20.endpoints.trades as trades"
   ]
  },
  {
   "cell_type": "code",
   "execution_count": null,
   "metadata": {},
   "outputs": [],
   "source": []
  },
  {
   "cell_type": "code",
   "execution_count": 4,
   "metadata": {},
   "outputs": [],
   "source": [
    "def resetTrade():\n",
    "    return {\n",
    "        'status': 'idle',\n",
    "        'openPrice': None\n",
    "    }"
   ]
  },
  {
   "cell_type": "code",
   "execution_count": 5,
   "metadata": {},
   "outputs": [],
   "source": [
    "def validateOpen(orders, positions, minDifference):\n",
    "    longs = 0\n",
    "    shorts = 0\n",
    "    for key in orders.keys():\n",
    "        longs += float(orders[key]['longs'])\n",
    "        shorts += float(orders[key]['shorts'])\n",
    "    ordersSentiment = longs/shorts\n",
    "    \n",
    "    longs = 0\n",
    "    shorts = 0\n",
    "    for key in positions.keys():\n",
    "        longs += float(orders[key]['longs'])\n",
    "        shorts += float(orders[key]['shorts'])\n",
    "    positionsSentiment = longs/shorts\n",
    "    \n",
    "    if ordersSentiment > (1 + minDifference) and positionsSentiment > (1 + minDifference):\n",
    "        return 'buy'\n",
    "    elif ordersSentiment < (1 - minDifference) and positionsSentiment < (1 - minDifference):\n",
    "        return 'sell'\n",
    "    else:\n",
    "        return None"
   ]
  },
  {
   "cell_type": "code",
   "execution_count": 6,
   "metadata": {},
   "outputs": [],
   "source": [
    "def get_trades(api, aid):\n",
    "    trades_list = trades.OpenTrades(accountID=aid)\n",
    "    return api.request(trades_list)['trades']"
   ]
  },
  {
   "cell_type": "code",
   "execution_count": 7,
   "metadata": {},
   "outputs": [],
   "source": [
    "def get_orders(api, aid):\n",
    "    trades_list = orders_endpoint.OrderList(accountID=aid)\n",
    "    return api.request(trades_list)['orders']"
   ]
  },
  {
   "cell_type": "code",
   "execution_count": 8,
   "metadata": {},
   "outputs": [],
   "source": [
    "def openTrade(api, aid, instrument, tradeUnits, slPrice, tpPrice, openPrice):\n",
    "    data = {\n",
    "      \"order\": {\n",
    "        \"price\": str(openPrice),\n",
    "        \"stopLossOnFill\": {\n",
    "          \"timeInForce\": \"GTC\",\n",
    "          \"price\": str(slPrice)\n",
    "        },\n",
    "        \"takeProfitOnFill\": {\n",
    "          \"price\": str(tpPrice)\n",
    "        },\n",
    "        \"timeInForce\": \"GTC\",\n",
    "        \"instrument\": instrument,\n",
    "        \"units\": str(tradeUnits),\n",
    "        \"type\": \"LIMIT\",\n",
    "        \"positionFill\": \"DEFAULT\"\n",
    "      }\n",
    "    }\n",
    "\n",
    "    o = orders_endpoint.OrderCreate(aid, data=data)\n",
    "    return api.request(o)"
   ]
  },
  {
   "cell_type": "code",
   "execution_count": 9,
   "metadata": {},
   "outputs": [],
   "source": [
    "def change_sl_tp(client, aid, tradeID, sl):\n",
    "    data = {\n",
    "      \"stopLoss\": {\n",
    "        \"timeInForce\": \"GTC\",\n",
    "        \"price\": str(sl)\n",
    "      }\n",
    "    }\n",
    "\n",
    "    r = trades.TradeCRCDO(accountID=aid,\n",
    "                           tradeID=tradeID,\n",
    "                           data=data)\n",
    "    return client.request(r)"
   ]
  },
  {
   "cell_type": "code",
   "execution_count": null,
   "metadata": {},
   "outputs": [],
   "source": []
  },
  {
   "cell_type": "code",
   "execution_count": 40,
   "metadata": {},
   "outputs": [],
   "source": [
    "instrument = 'EUR_USD'\n",
    "bucketWidth = 3\n",
    "minDifference = 0.1\n",
    "tradeUnits = 100\n",
    "minMovement = 0.0002\n",
    "slPips = 0.0010\n",
    "tpPips = 0.0020\n",
    "waitingPeriods = 5\n",
    "openPeriods = 10\n",
    "startingHour = 8\n",
    "endingHour = 22\n",
    "\n",
    "aid = \"101-004-8182547-007\"\n",
    "api = myAPI()"
   ]
  },
  {
   "cell_type": "code",
   "execution_count": 11,
   "metadata": {},
   "outputs": [],
   "source": [
    "try:\n",
    "    del prevMinute\n",
    "except:\n",
    "    pass"
   ]
  },
  {
   "cell_type": "code",
   "execution_count": 12,
   "metadata": {},
   "outputs": [],
   "source": [
    "testingContainer = []"
   ]
  },
  {
   "cell_type": "code",
   "execution_count": 13,
   "metadata": {},
   "outputs": [],
   "source": [
    "import pickle"
   ]
  },
  {
   "cell_type": "code",
   "execution_count": 14,
   "metadata": {
    "scrolled": true
   },
   "outputs": [],
   "source": [
    "testingData = pickle.loads(open('testingData', 'rb').read())"
   ]
  },
  {
   "cell_type": "code",
   "execution_count": null,
   "metadata": {},
   "outputs": [],
   "source": []
  },
  {
   "cell_type": "code",
   "execution_count": 75,
   "metadata": {
    "scrolled": true
   },
   "outputs": [
    {
     "name": "stdout",
     "output_type": "stream",
     "text": [
      "------- idle -------\n",
      "------- idle -------\n",
      "------- idle -------\n",
      "------- idle -------\n",
      "------- idle -------\n",
      "------- idle -------\n",
      "------- idle -------\n",
      "------- idle -------\n",
      "------- idle -------\n",
      "------- idle -------\n",
      "------- idle -------\n",
      "------- idle -------\n",
      "------- idle -------\n",
      "------- idle -------\n",
      "decision: buy\n",
      "calendar []\n",
      "opentrade\n",
      "{'orderCreateTransaction': {'type': 'LIMIT_ORDER', 'instrument': 'EUR_USD', 'units': '100', 'price': '1.12796', 'timeInForce': 'GTC', 'triggerCondition': 'DEFAULT', 'partialFill': 'DEFAULT', 'positionFill': 'DEFAULT', 'takeProfitOnFill': {'price': '1.12996', 'timeInForce': 'GTC'}, 'stopLossOnFill': {'price': '1.12696', 'timeInForce': 'GTC'}, 'reason': 'CLIENT_ORDER', 'id': '92', 'accountID': '101-004-8182547-007', 'userID': 8182547, 'batchID': '92', 'requestID': '42553147511481842', 'time': '2019-04-17T18:39:33.130727722Z'}, 'relatedTransactionIDs': ['92'], 'lastTransactionID': '92'}\n",
      "------- waiting -------\n",
      "currentPrice: 1.12858\n",
      "currentPrice: 1.12816\n",
      "and the trade: \n",
      "{'status': 'waiting', 'openPrice': None, 'waitingPeriods': 5}\n",
      "still not open\n",
      "------- waiting -------\n",
      "currentPrice: 1.12858\n",
      "currentPrice: 1.12816\n",
      "and the trade: \n",
      "{'status': 'waiting', 'openPrice': None, 'waitingPeriods': 4}\n",
      "still not open\n",
      "------- waiting -------\n",
      "currentPrice: 1.12858\n",
      "currentPrice: 1.12816\n",
      "and the trade: \n",
      "{'status': 'waiting', 'openPrice': None, 'waitingPeriods': 3}\n",
      "still not open\n",
      "------- waiting -------\n",
      "currentPrice: 1.12853\n",
      "currentPrice: 1.12811\n",
      "and the trade: \n",
      "{'status': 'waiting', 'openPrice': None, 'waitingPeriods': 2}\n",
      "still not open\n",
      "------- waiting -------\n",
      "currentPrice: 1.12853\n",
      "currentPrice: 1.12811\n",
      "and the trade: \n",
      "{'status': 'waiting', 'openPrice': None, 'waitingPeriods': 1}\n",
      "still not open\n",
      "------- waiting -------\n",
      "currentPrice: 1.12851\n",
      "currentPrice: 1.12809\n",
      "and the trade: \n",
      "{'status': 'waiting', 'openPrice': None, 'waitingPeriods': 0}\n",
      "still not open\n",
      "{'orderCancelTransaction': {'type': 'ORDER_CANCEL', 'orderID': '92', 'reason': 'CLIENT_REQUEST', 'id': '93', 'accountID': '101-004-8182547-007', 'userID': 8182547, 'batchID': '93', 'requestID': '42553147519874994', 'time': '2019-04-17T18:39:35.130236011Z'}, 'relatedTransactionIDs': ['93'], 'lastTransactionID': '93'}\n",
      "------- idle -------\n",
      "------- idle -------\n",
      "------- idle -------\n"
     ]
    }
   ],
   "source": [
    "trade = resetTrade().copy()\n",
    "#for tick in stream(instrument):\n",
    "for tick in testingData:\n",
    "    #testingContainer.append(tick)\n",
    "\n",
    "    try:\n",
    "        prevMinute\n",
    "    except:\n",
    "        prevMinute = int(tick['time'][14:16])\n",
    "        continue\n",
    "\n",
    "    if startingHour < int(tick['time'][11:13]) < endingHour:\n",
    "\n",
    "        currentMinute = int(tick['time'][14:16])\n",
    "        if tick['type'] == 'PRICE':\n",
    "            currentAskPrice = tick['closeoutAsk']\n",
    "            currentBidPrice = tick['closeoutBid']\n",
    "\n",
    "        if currentMinute != prevMinute:\n",
    "            if trade['status'] == 'idle':\n",
    "                print('------- idle -------')\n",
    "\n",
    "                if currentMinute in (0,20,40):\n",
    "                    bookTime, orders = get_book(instrument, 'orders', bucketWidth)\n",
    "                    while True:\n",
    "                        sleep(1)\n",
    "                        bookTime, orders = get_book(instrument, 'orders', bucketWidth)\n",
    "                        #if int(bookTime[14:16]) == currentMinute:\n",
    "                        #    break\n",
    "                        break\n",
    "\n",
    "                    positions = get_book(instrument, 'positions', bucketWidth)[1]\n",
    "                    #decision = validateOpen(orders, positions, minDifference)\n",
    "                    decision = 'buy'\n",
    "                    print('decision: '+str(decision))\n",
    "                    if decision:\n",
    "                        trade['status'] = 'waiting'\n",
    "                        trade['waitingPeriods'] = waitingPeriods\n",
    "\n",
    "                        calendar = cal(api, instrument, '3600')\n",
    "                        print('calendar '+str(calendar))\n",
    "                        if len(calendar) != 0:\n",
    "                            lastEventTs = cal(api, instrument, '3600').iloc[-1].time\n",
    "                            currentTs = to_datetime(tick['time'][:22])\n",
    "                            print((currentTs - lastEventTs).seconds)\n",
    "                            if (currentTs - lastEventTs).seconds < 1800:\n",
    "                                continue\n",
    "\n",
    "                        if decision == 'buy':\n",
    "                            print('opentrade')\n",
    "                            openPrice = round(float(currentBidPrice) - minMovement,5)\n",
    "                            print(openTrade(api, aid, \n",
    "                                      instrument, \n",
    "                                      tradeUnits, \n",
    "                                      round(openPrice - slPips, 5), \n",
    "                                      round(openPrice + tpPips, 5), \n",
    "                                      openPrice))\n",
    "\n",
    "                        else:\n",
    "                            print('opentrade')\n",
    "                            openPrice = float(currentAskPrice) + minMovement\n",
    "                            #print(openTrade(api, aid, \n",
    "                            #          instrument, \n",
    "                            #          -tradeUnits, \n",
    "                            #          round(openPrice + slPips, 5), \n",
    "                            #          round(openPrice - tpips, 5), \n",
    "                            #          openPrice))\n",
    "\n",
    "\n",
    "            elif trade['status'] == 'waiting':\n",
    "                print('------- waiting -------')\n",
    "                print('currentPrice: '+ str(currentAskPrice))\n",
    "                print('currentPrice: '+ str(currentBidPrice))\n",
    "                print('and the trade: ')\n",
    "                print(trade)\n",
    "\n",
    "                openTrades = get_trades(api, aid)\n",
    "                waitingOrders = get_orders(api, aid)\n",
    "                if len(openTrades) == 0 and len(waitingOrders) != 0:\n",
    "                    print('still not open')\n",
    "                    if trade['waitingPeriods'] == 0:\n",
    "                        trade = resetTrade().copy()\n",
    "                        for waitingTrade in waitingOrders:\n",
    "                            r = orders_endpoint.OrderCancel(accountID = aid, \n",
    "                                              orderID = waitingTrade['id'])\n",
    "                            print(api.request(r))\n",
    "                    else:\n",
    "                        trade['waitingPeriods'] -= 1\n",
    "                else:\n",
    "                    trade['openPeriods'] = openPeriods\n",
    "                    trade['status'] = 'open'\n",
    "\n",
    "\n",
    "            elif trade['status'] == 'open':\n",
    "                print('----- open ------')\n",
    "                print(trade)\n",
    "                if trade['openPeriods'] == 0:\n",
    "                    for openTrade in get_trades(api, aid):\n",
    "                        r = trades.TradeClose(accountID = aid, \n",
    "                                              tradeID = openTrade['id'],\n",
    "                                              data = {\"units\": openTrade['initialUnits']})\n",
    "                        print(api.request(r))\n",
    "                else:\n",
    "                    trade['openPeriods'] -= 1\n",
    "                    trades = get_trades(api, aid)\n",
    "                    print(trades)\n",
    "                    for trade in trades:\n",
    "                        if int(trade['initialUnits']) > 0:\n",
    "                            print(change_sl_tp(client, aid, trade['id'], \n",
    "                                         float(trade['stopLossOnFill']['price']) + 0.0001\n",
    "                                        ))\n",
    "                        else:\n",
    "                            print(change_sl_tp(client, aid, trade['id'], \n",
    "                                         float(trade['stopLossOnFill']['price']) - 0.0001\n",
    "                                        ))\n",
    "\n",
    "\n",
    "            else:\n",
    "                print('something went wrong')\n",
    "                print(trade)\n",
    "                print(get_trades(api, aid))\n",
    "                print(get_orders(api, aid))\n",
    "\n",
    "\n",
    "        prevMinute = currentMinute"
   ]
  },
  {
   "cell_type": "code",
   "execution_count": null,
   "metadata": {},
   "outputs": [],
   "source": []
  },
  {
   "cell_type": "code",
   "execution_count": null,
   "metadata": {},
   "outputs": [],
   "source": []
  },
  {
   "cell_type": "code",
   "execution_count": 11,
   "metadata": {},
   "outputs": [],
   "source": [
    "import pickle"
   ]
  },
  {
   "cell_type": "code",
   "execution_count": 31,
   "metadata": {},
   "outputs": [],
   "source": [
    "#pickle.dump(testingContainer, open('testingData', 'wb'))"
   ]
  },
  {
   "cell_type": "code",
   "execution_count": null,
   "metadata": {},
   "outputs": [],
   "source": []
  },
  {
   "cell_type": "code",
   "execution_count": null,
   "metadata": {},
   "outputs": [],
   "source": []
  }
 ],
 "metadata": {
  "kernelspec": {
   "display_name": "Python 3",
   "language": "python",
   "name": "python3"
  },
  "language_info": {
   "codemirror_mode": {
    "name": "ipython",
    "version": 3
   },
   "file_extension": ".py",
   "mimetype": "text/x-python",
   "name": "python",
   "nbconvert_exporter": "python",
   "pygments_lexer": "ipython3",
   "version": "3.7.2"
  }
 },
 "nbformat": 4,
 "nbformat_minor": 2
}
