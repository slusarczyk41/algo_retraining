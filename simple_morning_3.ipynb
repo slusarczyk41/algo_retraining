{
 "cells": [
  {
   "cell_type": "code",
   "execution_count": 1,
   "metadata": {},
   "outputs": [],
   "source": [
    "import pandas as pd\n",
    "import datetime as dt\n",
    "import numpy as np"
   ]
  },
  {
   "cell_type": "code",
   "execution_count": 2,
   "metadata": {},
   "outputs": [],
   "source": [
    "from oandapyV20 import API\n",
    "from oandapyV20.contrib.factories import InstrumentsCandlesFactory\n",
    "import oandapyV20.endpoints.forexlabs as labs"
   ]
  },
  {
   "cell_type": "code",
   "execution_count": 3,
   "metadata": {},
   "outputs": [],
   "source": [
    "orders = pd.concat([\n",
    "    pd.read_csv('order_book/january.csv'),\n",
    "    pd.read_csv('order_book/january_missing.csv'),\n",
    "    pd.read_csv('order_book/february.csv'),\n",
    "    pd.read_csv('order_book/march.csv'),\n",
    "])"
   ]
  },
  {
   "cell_type": "code",
   "execution_count": 4,
   "metadata": {},
   "outputs": [],
   "source": [
    "positions = pd.concat([\n",
    "    pd.read_csv('position_book/january.csv'),\n",
    "    pd.read_csv('position_book/february.csv'),\n",
    "    pd.read_csv('position_book/march.csv'),\n",
    "])"
   ]
  },
  {
   "cell_type": "code",
   "execution_count": 5,
   "metadata": {},
   "outputs": [],
   "source": [
    "def hist(api, instrument, start_days, end_days, granularity):\n",
    "\n",
    "    start_date = (dt.datetime.now()-dt.timedelta(days=start_days)).strftime('%Y-%m-%dT%H:%M:%SZ')\n",
    "    end_date = (dt.datetime.now()-dt.timedelta(days=end_days, hours=2,minutes=4)).strftime('%Y-%m-%dT%H:%M:%SZ')\n",
    "\n",
    "    params ={\n",
    "                \"from\": start_date,\n",
    "                \"to\": end_date,\n",
    "                \"granularity\":granularity,\n",
    "            }\n",
    "\n",
    "    df_list = []\n",
    "    for r in InstrumentsCandlesFactory(instrument=instrument,params=params):\n",
    "        api.request(r)\n",
    "        df = pd.DataFrame(r.response['candles'])\n",
    "        if(df.empty==False):\n",
    "            time = df['time']\n",
    "            volume = pd.DataFrame(df['volume'].apply(pd.Series))\n",
    "            df = pd.DataFrame(df['mid'].apply(pd.Series))\n",
    "            df = pd.concat([df,time,volume], axis=1)\n",
    "            df['time'] = pd.to_datetime(df['time'], format='%Y-%m-%dT%H:%M:%S.000000000Z')\n",
    "            #df.set_index('time',inplace=True)\n",
    "            df_list.append(df)\n",
    "    \n",
    "    final = pd.concat(df_list)\n",
    "    \n",
    "    names = {\n",
    "        'o': 'open',\n",
    "        'c': 'close',\n",
    "        'h': 'high',\n",
    "        'l': 'low',\n",
    "        0: 'vol',\n",
    "        'time': 'time',\n",
    "    }\n",
    "    new_names = []\n",
    "    for column_name in final.columns:\n",
    "        new_names.append(names[column_name])\n",
    "    final.columns = new_names\n",
    "    \n",
    "    return final"
   ]
  },
  {
   "cell_type": "code",
   "execution_count": 6,
   "metadata": {},
   "outputs": [],
   "source": [
    "def cal(client, instrument, perdiod):\n",
    "\n",
    "    \n",
    "    \n",
    "    params = {\n",
    "        \"instrument\": instrument,\n",
    "        \"period\": perdiod\n",
    "    }\n",
    "    \n",
    "    # PERIOD VALUES\n",
    "    #3600 - 1 hour\n",
    "    #43200 - 12 hours\n",
    "    #86400 - 1 day\n",
    "    #604800 - 1 week\n",
    "    #2592000 - 1 month\n",
    "    #7776000 - 3 months\n",
    "    #15552000 - 6 months\n",
    "    #31536000 - 1 year\n",
    "    # http://developer.oanda.com/rest-live/forex-labs/\n",
    "\n",
    "    r = labs.Calendar(params=params)\n",
    "    client.request(r)\n",
    "    \n",
    "    df = pd.DataFrame.from_dict(r.response, orient='columns')\n",
    "    \n",
    "    df['timestamp'] = pd.to_datetime(df['timestamp']*1000000000)\n",
    "    df = df[['impact', 'timestamp']]\n",
    "    df.columns = ['impact', 'time']\n",
    "\n",
    "    return df.groupby('time').sum().reset_index()"
   ]
  },
  {
   "cell_type": "code",
   "execution_count": 7,
   "metadata": {},
   "outputs": [],
   "source": [
    "def merge(history, calendar):\n",
    "    return pd.merge(history, calendar, left_on = 'time', right_on = 'time', how='outer')\\\n",
    "                                                                            .set_index('time')\\\n",
    "                                                                            .astype(float)\\\n",
    "                                                                            .fillna(0)"
   ]
  },
  {
   "cell_type": "code",
   "execution_count": 8,
   "metadata": {},
   "outputs": [],
   "source": [
    "def broaden_impact(df, period):\n",
    "    df = df.reset_index().sort_values('time').set_index('time')\n",
    "\n",
    "    for i in range(periods):\n",
    "        df.loc[\n",
    "            (df['impact'].shift(-1-i) != 0)\n",
    "        ,'impact'] = df['impact'].shift(-1-i)\n",
    "    \n",
    "    df['impact'] = df['impact'].fillna(0)\n",
    "\n",
    "    return df[df['low'] != 0]"
   ]
  },
  {
   "cell_type": "code",
   "execution_count": 9,
   "metadata": {},
   "outputs": [],
   "source": [
    "client = API(access_token='3cf916fab91f55a904250b95078a6851-27cefccf52cf1a0aead8d8385376e890')"
   ]
  },
  {
   "cell_type": "code",
   "execution_count": 10,
   "metadata": {},
   "outputs": [],
   "source": [
    "granularity_param = 'M5'"
   ]
  },
  {
   "cell_type": "code",
   "execution_count": 11,
   "metadata": {},
   "outputs": [],
   "source": [
    "calendar = cal(client, 'EUR_USD', 7776000)"
   ]
  },
  {
   "cell_type": "code",
   "execution_count": 12,
   "metadata": {},
   "outputs": [],
   "source": [
    "history = hist(client, 'EUR_USD', 90, 0, granularity_param)"
   ]
  },
  {
   "cell_type": "code",
   "execution_count": 13,
   "metadata": {},
   "outputs": [],
   "source": [
    "merged = merge(history, calendar)"
   ]
  },
  {
   "cell_type": "code",
   "execution_count": 14,
   "metadata": {},
   "outputs": [
    {
     "data": {
      "text/html": [
       "<div>\n",
       "<style scoped>\n",
       "    .dataframe tbody tr th:only-of-type {\n",
       "        vertical-align: middle;\n",
       "    }\n",
       "\n",
       "    .dataframe tbody tr th {\n",
       "        vertical-align: top;\n",
       "    }\n",
       "\n",
       "    .dataframe thead th {\n",
       "        text-align: right;\n",
       "    }\n",
       "</style>\n",
       "<table border=\"1\" class=\"dataframe\">\n",
       "  <thead>\n",
       "    <tr style=\"text-align: right;\">\n",
       "      <th></th>\n",
       "      <th>open</th>\n",
       "      <th>high</th>\n",
       "      <th>low</th>\n",
       "      <th>close</th>\n",
       "      <th>vol</th>\n",
       "      <th>impact</th>\n",
       "    </tr>\n",
       "    <tr>\n",
       "      <th>time</th>\n",
       "      <th></th>\n",
       "      <th></th>\n",
       "      <th></th>\n",
       "      <th></th>\n",
       "      <th></th>\n",
       "      <th></th>\n",
       "    </tr>\n",
       "  </thead>\n",
       "  <tbody>\n",
       "    <tr>\n",
       "      <th>2019-01-02 19:20:00</th>\n",
       "      <td>1.13321</td>\n",
       "      <td>1.13325</td>\n",
       "      <td>1.13292</td>\n",
       "      <td>1.13307</td>\n",
       "      <td>104.0</td>\n",
       "      <td>0.0</td>\n",
       "    </tr>\n",
       "  </tbody>\n",
       "</table>\n",
       "</div>"
      ],
      "text/plain": [
       "                        open     high      low    close    vol  impact\n",
       "time                                                                  \n",
       "2019-01-02 19:20:00  1.13321  1.13325  1.13292  1.13307  104.0     0.0"
      ]
     },
     "execution_count": 14,
     "metadata": {},
     "output_type": "execute_result"
    }
   ],
   "source": [
    "merged.head(1)"
   ]
  },
  {
   "cell_type": "code",
   "execution_count": 15,
   "metadata": {},
   "outputs": [
    {
     "data": {
      "text/html": [
       "<div>\n",
       "<style scoped>\n",
       "    .dataframe tbody tr th:only-of-type {\n",
       "        vertical-align: middle;\n",
       "    }\n",
       "\n",
       "    .dataframe tbody tr th {\n",
       "        vertical-align: top;\n",
       "    }\n",
       "\n",
       "    .dataframe thead th {\n",
       "        text-align: right;\n",
       "    }\n",
       "</style>\n",
       "<table border=\"1\" class=\"dataframe\">\n",
       "  <thead>\n",
       "    <tr style=\"text-align: right;\">\n",
       "      <th></th>\n",
       "      <th>Unnamed: 0</th>\n",
       "      <th>time</th>\n",
       "      <th>price</th>\n",
       "      <th>roundedPrice</th>\n",
       "      <th>level_0_l</th>\n",
       "      <th>level_0_s</th>\n",
       "      <th>level_1_up_l</th>\n",
       "      <th>level_1_up_s</th>\n",
       "      <th>level_1_down_l</th>\n",
       "      <th>level_1_down_s</th>\n",
       "      <th>...</th>\n",
       "      <th>level_3_down_l</th>\n",
       "      <th>level_3_down_s</th>\n",
       "      <th>level_4_up_l</th>\n",
       "      <th>level_4_up_s</th>\n",
       "      <th>level_4_down_l</th>\n",
       "      <th>level_4_down_s</th>\n",
       "      <th>level_5_up_l</th>\n",
       "      <th>level_5_up_s</th>\n",
       "      <th>level_5_down_l</th>\n",
       "      <th>level_5_down_s</th>\n",
       "    </tr>\n",
       "  </thead>\n",
       "  <tbody>\n",
       "    <tr>\n",
       "      <th>0</th>\n",
       "      <td>0</td>\n",
       "      <td>2019-01-03T15:40:00Z</td>\n",
       "      <td>1.13998</td>\n",
       "      <td>1.14</td>\n",
       "      <td>0.0065</td>\n",
       "      <td>0.0978</td>\n",
       "      <td>0.0</td>\n",
       "      <td>0.0</td>\n",
       "      <td>0.0</td>\n",
       "      <td>0.0</td>\n",
       "      <td>...</td>\n",
       "      <td>0.0</td>\n",
       "      <td>0.0</td>\n",
       "      <td>0.0</td>\n",
       "      <td>0.0</td>\n",
       "      <td>0.0</td>\n",
       "      <td>0.0</td>\n",
       "      <td>0</td>\n",
       "      <td>0</td>\n",
       "      <td>0</td>\n",
       "      <td>0</td>\n",
       "    </tr>\n",
       "  </tbody>\n",
       "</table>\n",
       "<p>1 rows × 26 columns</p>\n",
       "</div>"
      ],
      "text/plain": [
       "   Unnamed: 0                  time    price  roundedPrice  level_0_l  \\\n",
       "0           0  2019-01-03T15:40:00Z  1.13998          1.14     0.0065   \n",
       "\n",
       "   level_0_s  level_1_up_l  level_1_up_s  level_1_down_l  level_1_down_s  ...  \\\n",
       "0     0.0978           0.0           0.0             0.0             0.0  ...   \n",
       "\n",
       "   level_3_down_l  level_3_down_s  level_4_up_l  level_4_up_s  level_4_down_l  \\\n",
       "0             0.0             0.0           0.0           0.0             0.0   \n",
       "\n",
       "   level_4_down_s  level_5_up_l  level_5_up_s  level_5_down_l  level_5_down_s  \n",
       "0             0.0             0             0               0               0  \n",
       "\n",
       "[1 rows x 26 columns]"
      ]
     },
     "execution_count": 15,
     "metadata": {},
     "output_type": "execute_result"
    }
   ],
   "source": [
    "orders.head(1)"
   ]
  },
  {
   "cell_type": "code",
   "execution_count": 16,
   "metadata": {},
   "outputs": [
    {
     "data": {
      "text/html": [
       "<div>\n",
       "<style scoped>\n",
       "    .dataframe tbody tr th:only-of-type {\n",
       "        vertical-align: middle;\n",
       "    }\n",
       "\n",
       "    .dataframe tbody tr th {\n",
       "        vertical-align: top;\n",
       "    }\n",
       "\n",
       "    .dataframe thead th {\n",
       "        text-align: right;\n",
       "    }\n",
       "</style>\n",
       "<table border=\"1\" class=\"dataframe\">\n",
       "  <thead>\n",
       "    <tr style=\"text-align: right;\">\n",
       "      <th></th>\n",
       "      <th>Unnamed: 0</th>\n",
       "      <th>time</th>\n",
       "      <th>price</th>\n",
       "      <th>roundedPrice</th>\n",
       "      <th>level_0_l</th>\n",
       "      <th>level_0_s</th>\n",
       "      <th>level_1_up_l</th>\n",
       "      <th>level_1_up_s</th>\n",
       "      <th>level_1_down_l</th>\n",
       "      <th>level_1_down_s</th>\n",
       "      <th>...</th>\n",
       "      <th>level_3_down_l</th>\n",
       "      <th>level_3_down_s</th>\n",
       "      <th>level_4_up_l</th>\n",
       "      <th>level_4_up_s</th>\n",
       "      <th>level_4_down_l</th>\n",
       "      <th>level_4_down_s</th>\n",
       "      <th>level_5_up_l</th>\n",
       "      <th>level_5_up_s</th>\n",
       "      <th>level_5_down_l</th>\n",
       "      <th>level_5_down_s</th>\n",
       "    </tr>\n",
       "  </thead>\n",
       "  <tbody>\n",
       "    <tr>\n",
       "      <th>0</th>\n",
       "      <td>0</td>\n",
       "      <td>2019-01-01T00:00:00Z</td>\n",
       "      <td>1.14649</td>\n",
       "      <td>1.1465</td>\n",
       "      <td>0.3569</td>\n",
       "      <td>0.1814</td>\n",
       "      <td>0.272</td>\n",
       "      <td>0.0848</td>\n",
       "      <td>0.272</td>\n",
       "      <td>0.0848</td>\n",
       "      <td>...</td>\n",
       "      <td>0.1463</td>\n",
       "      <td>0.0936</td>\n",
       "      <td>0.0</td>\n",
       "      <td>0.0</td>\n",
       "      <td>0.0</td>\n",
       "      <td>0.0</td>\n",
       "      <td>0</td>\n",
       "      <td>0</td>\n",
       "      <td>0</td>\n",
       "      <td>0</td>\n",
       "    </tr>\n",
       "  </tbody>\n",
       "</table>\n",
       "<p>1 rows × 26 columns</p>\n",
       "</div>"
      ],
      "text/plain": [
       "   Unnamed: 0                  time    price  roundedPrice  level_0_l  \\\n",
       "0           0  2019-01-01T00:00:00Z  1.14649        1.1465     0.3569   \n",
       "\n",
       "   level_0_s  level_1_up_l  level_1_up_s  level_1_down_l  level_1_down_s  ...  \\\n",
       "0     0.1814         0.272        0.0848           0.272          0.0848  ...   \n",
       "\n",
       "   level_3_down_l  level_3_down_s  level_4_up_l  level_4_up_s  level_4_down_l  \\\n",
       "0          0.1463          0.0936           0.0           0.0             0.0   \n",
       "\n",
       "   level_4_down_s  level_5_up_l  level_5_up_s  level_5_down_l  level_5_down_s  \n",
       "0             0.0             0             0               0               0  \n",
       "\n",
       "[1 rows x 26 columns]"
      ]
     },
     "execution_count": 16,
     "metadata": {},
     "output_type": "execute_result"
    }
   ],
   "source": [
    "positions.head(1)"
   ]
  },
  {
   "cell_type": "code",
   "execution_count": 17,
   "metadata": {},
   "outputs": [],
   "source": [
    "orders = orders.set_index(pd.to_datetime(orders['time'], format=\"%Y-%m-%dT%H:%M:%SZ\"))"
   ]
  },
  {
   "cell_type": "code",
   "execution_count": 18,
   "metadata": {},
   "outputs": [],
   "source": [
    "ordersNewColumns = []\n",
    "for column in orders.columns:\n",
    "    ordersNewColumns.append(column+'_orders')"
   ]
  },
  {
   "cell_type": "code",
   "execution_count": 19,
   "metadata": {},
   "outputs": [],
   "source": [
    "orders.columns = ordersNewColumns"
   ]
  },
  {
   "cell_type": "code",
   "execution_count": 20,
   "metadata": {},
   "outputs": [],
   "source": [
    "positions = positions.set_index(pd.to_datetime(positions['time'], format=\"%Y-%m-%dT%H:%M:%SZ\"))"
   ]
  },
  {
   "cell_type": "code",
   "execution_count": 21,
   "metadata": {},
   "outputs": [],
   "source": [
    "positionsNewColumns = []\n",
    "for column in positions.columns:\n",
    "    positionsNewColumns.append(column+'_positions')"
   ]
  },
  {
   "cell_type": "code",
   "execution_count": 22,
   "metadata": {},
   "outputs": [],
   "source": [
    "positions.columns = positionsNewColumns"
   ]
  },
  {
   "cell_type": "code",
   "execution_count": 23,
   "metadata": {
    "scrolled": true
   },
   "outputs": [],
   "source": [
    "base = merged.join(orders).join(positions)\\\n",
    "    .dropna()\\\n",
    "    .drop(['Unnamed: 0_orders', 'Unnamed: 0_positions', 'price_orders',\n",
    "          'roundedPrice_orders', 'price_positions', 'roundedPrice_positions',\n",
    "          'time_orders', 'time_positions'], axis = 1)\\"
   ]
  },
  {
   "cell_type": "code",
   "execution_count": 24,
   "metadata": {},
   "outputs": [
    {
     "data": {
      "text/html": [
       "<div>\n",
       "<style scoped>\n",
       "    .dataframe tbody tr th:only-of-type {\n",
       "        vertical-align: middle;\n",
       "    }\n",
       "\n",
       "    .dataframe tbody tr th {\n",
       "        vertical-align: top;\n",
       "    }\n",
       "\n",
       "    .dataframe thead th {\n",
       "        text-align: right;\n",
       "    }\n",
       "</style>\n",
       "<table border=\"1\" class=\"dataframe\">\n",
       "  <thead>\n",
       "    <tr style=\"text-align: right;\">\n",
       "      <th></th>\n",
       "      <th>open</th>\n",
       "      <th>high</th>\n",
       "      <th>low</th>\n",
       "      <th>close</th>\n",
       "      <th>vol</th>\n",
       "      <th>impact</th>\n",
       "      <th>level_0_l_orders</th>\n",
       "      <th>level_0_s_orders</th>\n",
       "      <th>level_1_up_l_orders</th>\n",
       "      <th>level_1_up_s_orders</th>\n",
       "      <th>...</th>\n",
       "      <th>level_3_down_l_positions</th>\n",
       "      <th>level_3_down_s_positions</th>\n",
       "      <th>level_4_up_l_positions</th>\n",
       "      <th>level_4_up_s_positions</th>\n",
       "      <th>level_4_down_l_positions</th>\n",
       "      <th>level_4_down_s_positions</th>\n",
       "      <th>level_5_up_l_positions</th>\n",
       "      <th>level_5_up_s_positions</th>\n",
       "      <th>level_5_down_l_positions</th>\n",
       "      <th>level_5_down_s_positions</th>\n",
       "    </tr>\n",
       "    <tr>\n",
       "      <th>time</th>\n",
       "      <th></th>\n",
       "      <th></th>\n",
       "      <th></th>\n",
       "      <th></th>\n",
       "      <th></th>\n",
       "      <th></th>\n",
       "      <th></th>\n",
       "      <th></th>\n",
       "      <th></th>\n",
       "      <th></th>\n",
       "      <th></th>\n",
       "      <th></th>\n",
       "      <th></th>\n",
       "      <th></th>\n",
       "      <th></th>\n",
       "      <th></th>\n",
       "      <th></th>\n",
       "      <th></th>\n",
       "      <th></th>\n",
       "      <th></th>\n",
       "      <th></th>\n",
       "    </tr>\n",
       "  </thead>\n",
       "  <tbody>\n",
       "    <tr>\n",
       "      <th>2019-01-02 19:20:00</th>\n",
       "      <td>1.13321</td>\n",
       "      <td>1.13325</td>\n",
       "      <td>1.13292</td>\n",
       "      <td>1.13307</td>\n",
       "      <td>104.0</td>\n",
       "      <td>0.0</td>\n",
       "      <td>0.0173</td>\n",
       "      <td>0.0173</td>\n",
       "      <td>0.0867</td>\n",
       "      <td>0.0832</td>\n",
       "      <td>...</td>\n",
       "      <td>0.0</td>\n",
       "      <td>0.0</td>\n",
       "      <td>0.0</td>\n",
       "      <td>0.0</td>\n",
       "      <td>0.0</td>\n",
       "      <td>0.0</td>\n",
       "      <td>0.0</td>\n",
       "      <td>0.0</td>\n",
       "      <td>0.0</td>\n",
       "      <td>0.0</td>\n",
       "    </tr>\n",
       "  </tbody>\n",
       "</table>\n",
       "<p>1 rows × 50 columns</p>\n",
       "</div>"
      ],
      "text/plain": [
       "                        open     high      low    close    vol  impact  \\\n",
       "time                                                                     \n",
       "2019-01-02 19:20:00  1.13321  1.13325  1.13292  1.13307  104.0     0.0   \n",
       "\n",
       "                     level_0_l_orders  level_0_s_orders  level_1_up_l_orders  \\\n",
       "time                                                                           \n",
       "2019-01-02 19:20:00            0.0173            0.0173               0.0867   \n",
       "\n",
       "                     level_1_up_s_orders  ...  level_3_down_l_positions  \\\n",
       "time                                      ...                             \n",
       "2019-01-02 19:20:00               0.0832  ...                       0.0   \n",
       "\n",
       "                     level_3_down_s_positions  level_4_up_l_positions  \\\n",
       "time                                                                    \n",
       "2019-01-02 19:20:00                       0.0                     0.0   \n",
       "\n",
       "                     level_4_up_s_positions  level_4_down_l_positions  \\\n",
       "time                                                                    \n",
       "2019-01-02 19:20:00                     0.0                       0.0   \n",
       "\n",
       "                     level_4_down_s_positions  level_5_up_l_positions  \\\n",
       "time                                                                    \n",
       "2019-01-02 19:20:00                       0.0                     0.0   \n",
       "\n",
       "                     level_5_up_s_positions  level_5_down_l_positions  \\\n",
       "time                                                                    \n",
       "2019-01-02 19:20:00                     0.0                       0.0   \n",
       "\n",
       "                     level_5_down_s_positions  \n",
       "time                                           \n",
       "2019-01-02 19:20:00                       0.0  \n",
       "\n",
       "[1 rows x 50 columns]"
      ]
     },
     "execution_count": 24,
     "metadata": {},
     "output_type": "execute_result"
    }
   ],
   "source": [
    "base.head(1)"
   ]
  },
  {
   "cell_type": "code",
   "execution_count": 25,
   "metadata": {},
   "outputs": [
    {
     "data": {
      "text/plain": [
       "62.40277777777778"
      ]
     },
     "execution_count": 25,
     "metadata": {},
     "output_type": "execute_result"
    }
   ],
   "source": [
    "len(base)/72 # more less number of days"
   ]
  },
  {
   "cell_type": "code",
   "execution_count": 31,
   "metadata": {},
   "outputs": [],
   "source": [
    "base['ma5'] = base['close'].rolling(5).mean()\n",
    "base['ma10'] = base['close'].rolling(10).mean()\n",
    "base = base.dropna()"
   ]
  },
  {
   "cell_type": "code",
   "execution_count": 160,
   "metadata": {},
   "outputs": [],
   "source": [
    "# for starting point\n",
    "for startingHour in [7]: # ,8,9\n",
    "\n",
    "    # for ending point\n",
    "    for endingHour in [15]: # ,11,12,13,14,15,16,17,18\n",
    "        \n",
    "        if startingHour < endingHour:\n",
    "        # prepare dataset, so\n",
    "            \n",
    "            # check how there should be candles for both datasets\n",
    "            firstDatasetCandlesNumber = (startingHour - 6) * 3\n",
    "            secondDatasetCandlesNumber = (endingHour - startingHour + 1) * 3\n",
    "\n",
    "            # for each date (day)\n",
    "            for date in [base.index.date[7]]:\n",
    "                tmp = base[base.index.date == date]\n",
    "\n",
    "                # take candles from 6am until starting point as variables\n",
    "                variableCandles = tmp[(tmp.index.hour >= 6)\\\n",
    "                                      & (tmp.index.hour < startingHour)]\n",
    "\n",
    "                # take candles for opening period with ma\n",
    "                openingAndClosingCandles = tmp[(tmp.index.hour >= startingHour)\\\n",
    "                                                & (tmp.index.hour <= endingHour)]\n",
    "\n",
    "\n",
    "                if\\\n",
    "                    len(variableCandles) == firstDatasetCandlesNumber and\\\n",
    "                    len(openingAndClosingCandles) == secondDatasetCandlesNumber:\n",
    "                    # create variables:\n",
    "\n",
    "                    # take price from starting point\n",
    "                    startingPointPrice = tmp[tmp.index.hour == startingHour]\\\n",
    "                                                .head(1)[['open']]\\\n",
    "                                                .values[0][0]\n",
    "\n",
    "                    # - price difference between 6am and starting point\n",
    "                    startingPointPricePlusOneHour = tmp[tmp.index.hour == startingHour + 1]\\\n",
    "                                                .head(1)[['open']]\\\n",
    "                                                .values[0][0]\n",
    "                    morningDifference = startingPointPricePlusOneHour - startingPointPrice\n",
    "                    \n",
    "                    # - order and position book structure\n",
    "\n",
    "                    # depending on candles during one hour after starting point and ma values\n",
    "                    # open trades, with maximum number of trades 5\n",
    "\n",
    "                    # for each stop loss and take profit pair\n",
    "\n",
    "                        # check outcome\n"
   ]
  },
  {
   "cell_type": "code",
   "execution_count": 161,
   "metadata": {},
   "outputs": [
    {
     "data": {
      "text/plain": [
       "-0.000280000000000058"
      ]
     },
     "execution_count": 161,
     "metadata": {},
     "output_type": "execute_result"
    }
   ],
   "source": [
    "morningDifference"
   ]
  },
  {
   "cell_type": "code",
   "execution_count": null,
   "metadata": {},
   "outputs": [],
   "source": []
  }
 ],
 "metadata": {
  "kernelspec": {
   "display_name": "Python 3",
   "language": "python",
   "name": "python3"
  },
  "language_info": {
   "codemirror_mode": {
    "name": "ipython",
    "version": 3
   },
   "file_extension": ".py",
   "mimetype": "text/x-python",
   "name": "python",
   "nbconvert_exporter": "python",
   "pygments_lexer": "ipython3",
   "version": "3.7.2"
  }
 },
 "nbformat": 4,
 "nbformat_minor": 2
}
